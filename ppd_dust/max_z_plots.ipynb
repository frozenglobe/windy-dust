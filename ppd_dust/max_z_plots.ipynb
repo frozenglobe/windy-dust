{
 "cells": [
  {
   "cell_type": "code",
   "execution_count": 1,
   "id": "551bbe3c",
   "metadata": {},
   "outputs": [],
   "source": [
    "import numpy as np\n",
    "import matplotlib.pyplot as plt\n",
    "import math\n",
    "from matplotlib import cm, rcParams\n",
    "import scipy.constants as sc\n",
    "from scipy.optimize import newton\n",
    "rcParams['figure.figsize'] = (4,2)"
   ]
  },
  {
   "cell_type": "markdown",
   "id": "7fb38138",
   "metadata": {},
   "source": [
    "#### toy model"
   ]
  },
  {
   "cell_type": "code",
   "execution_count": 48,
   "id": "a7a29ab9",
   "metadata": {},
   "outputs": [],
   "source": [
    "P = 300\n",
    "R = np.logspace(np.log10(0.1), np.log10(400), P+1) # in au\n",
    "c_s = 1.5 * R**(-0.25) # in km/s\n",
    "Omega = (np.sqrt(sc.G * 2e30) * 1.5e11**(-1.5)) * R**(-1.5)\n",
    "rhos = 3.5 # in g/cm3\n",
    "H = c_s / (1.5e8) / Omega # in au\n",
    "H_R = c_s / Omega / (1.5e8) / R\n",
    "\n",
    "\n",
    "sdot = 2e-12 * (R/10)**(-1.5) # in g/cm2/s\n",
    "sd = 30 * (1/R) # in g/cm2\n",
    "\n",
    "u0 = np.sqrt(2*np.pi) / Omega * sdot / sd\n",
    "rho0 = sd / np.sqrt(2*np.pi) / (c_s * 1e5) * Omega\n",
    "\n",
    "# a_min = 0.03 / 1e4 # minimum grain size in cm, input in microns\n",
    "a_min = 0.001 / 1e4 # minimum grain size in cm, input in microns\n",
    "a_max = 1000 / 1e4 # maximum grain size in cm, input in microns\n",
    "M = int(1e4) # number of grain sizes\n",
    "a = np.logspace(np.log10(a_min), np.log10(a_max), M+1) # generate grain size list (log dist)N = 400\n",
    "\n",
    "k = sdot/rhos/Omega # in cm"
   ]
  },
  {
   "cell_type": "code",
   "execution_count": 55,
   "id": "62fe7811",
   "metadata": {},
   "outputs": [
    {
     "data": {
      "text/plain": [
       "41.44736513068767"
      ]
     },
     "execution_count": 55,
     "metadata": {},
     "output_type": "execute_result"
    }
   ],
   "source": [
    "np.argmin(np.abs([i-3e-5 for i in min_grain_size])) # find the index of the closest value to 3e-5 in\n",
    "R[218]"
   ]
  },
  {
   "cell_type": "code",
   "execution_count": null,
   "id": "d57e7e09",
   "metadata": {},
   "outputs": [],
   "source": [
    "np.argmin(np.abs(R - 0.25))"
   ]
  },
  {
   "cell_type": "code",
   "execution_count": 49,
   "id": "7dcadcf1",
   "metadata": {},
   "outputs": [
    {
     "data": {
      "text/plain": [
       "Text(0, 0.5, '$a_\\\\mathrm{esc}$ / cm')"
      ]
     },
     "execution_count": 49,
     "metadata": {},
     "output_type": "execute_result"
    },
    {
     "data": {
      "image/png": "[encoded data removed]",
      "text/plain": [
       "<Figure size 400x200 with 1 Axes>"
      ]
     },
     "metadata": {},
     "output_type": "display_data"
    }
   ],
   "source": [
    "# minimum grain size to settle\n",
    "idx_ls_R = [np.sum(i > (2 * a / 3**1.5)) for i in (k*H_R)]\n",
    "min_grain_size = [a[s-1] for s in idx_ls_R if s > 0]\n",
    "plt.plot(R, min_grain_size, c='C3')\n",
    "plt.xlim(0, 400)\n",
    "plt.ylim(0)\n",
    "plt.xlabel(r'$R$ / au')\n",
    "plt.ylabel(r'$a_\\mathrm{esc}$ / cm')"
   ]
  },
  {
   "cell_type": "code",
   "execution_count": 22,
   "id": "f4534648",
   "metadata": {},
   "outputs": [],
   "source": [
    "# now change the surface mass loss rate\n",
    "sdot_ref = 10**np.linspace(-14, -10, 5) # in g/cm2/s\n",
    "\n",
    "def calc_min_grain_size(sdot):\n",
    "    k = sdot/rhos/Omega\n",
    "    idx_ls_R = [np.sum(i > (2 * a / 3**1.5)) for i in (k*H_R)]\n",
    "    return [a[s-1] for s in idx_ls_R if s > 0]\n",
    "\n",
    "escape_list = []\n",
    "for i in sdot_ref:\n",
    "    sdot_loc = i * (R/10)**(-1.5)\n",
    "    escape_list.append(calc_min_grain_size(sdot_loc))\n",
    "\n"
   ]
  },
  {
   "cell_type": "code",
   "execution_count": 39,
   "id": "cf8ba21a",
   "metadata": {},
   "outputs": [
    {
     "data": {
      "text/plain": [
       "2.0"
      ]
     },
     "execution_count": 39,
     "metadata": {},
     "output_type": "execute_result"
    }
   ],
   "source": [
    "sdot_loc = sdot_ref[0] * (R/10)**(-1.5)\n",
    "k = sdot_loc/rhos/Omega\n",
    "test = np.array([np.sum(i > (2 * a / 3**1.5)) for i in (k*H_R)])\n",
    "test = np.where(test==0, np.nan, test)\n",
    "# test[np.sum(np.isnan(test))]\n",
    "test[np.sum(np.isnan(test))]"
   ]
  }
 ],
 "metadata": {
  "kernelspec": {
   "display_name": "Python 3",
   "language": "python",
   "name": "python3"
  },
  "language_info": {
   "codemirror_mode": {
    "name": "ipython",
    "version": 3
   },
   "file_extension": ".py",
   "mimetype": "text/x-python",
   "name": "python",
   "nbconvert_exporter": "python",
   "pygments_lexer": "ipython3",
   "version": "3.12.7"
  }
 },
 "nbformat": 4,
 "nbformat_minor": 5
}
