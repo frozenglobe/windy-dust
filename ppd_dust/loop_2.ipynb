{
 "cells": [
  {
   "cell_type": "code",
   "execution_count": 1,
   "metadata": {},
   "outputs": [],
   "source": [
    "import numpy as np\n",
    "import matplotlib.pyplot as plt\n",
    "import math\n",
    "from matplotlib import rcParams, cm\n",
    "import scipy.constants as sc\n",
    "import pandas as pd\n",
    "from numba import njit\n",
    "from astropy.io import fits\n",
    "import os\n",
    "rcParams[\"figure.figsize\"] = (5,2)"
   ]
  },
  {
   "cell_type": "code",
   "execution_count": 2,
   "metadata": {},
   "outputs": [],
   "source": [
    "@njit\n",
    "def vel_gen(St0, u0, v0, dz, z_list, a):\n",
    "    f_loc = v0**2/2\n",
    "    f_list = [f_loc]\n",
    "    u = u0 *  np.exp( 1/a * (1 - ( 1 + a*z_list**2 )**(-0.5) ) )\n",
    "    \n",
    "    for i in range(1, len(z_list)):\n",
    "        v_loc = (2*f_loc)**0.5\n",
    "        f_loc += dz * ( u0/St0 - v_loc/St0 * np.exp( -1/a * (1 - ( 1 + a*z_list[i-1]**2 )**(-0.5) ) ) - z_list[i-1] / (1 + a*z_list[i-1]**2)**(1.5))\n",
    "        f_list.append(f_loc)\n",
    "    \n",
    "    f_list = np.array(f_list)\n",
    "    v_list = ( 2*f_list )**0.5\n",
    "    \n",
    "    return z_list[:len(v_list)], v_list, u[:len(v_list)]\n",
    "\n",
    "@njit\n",
    "def vel_loop(St0, u0, v0, a, order, max_list_size, z_start, z_end):\n",
    "    dz = 10**( np.log10(St0 * u0) - order )\n",
    "    list_length = (z_end - z_start) / dz\n",
    "    iter_total = np.ceil(list_length / max_list_size)\n",
    "    print('Step size:', dz)\n",
    "    print('Number of iterations:', iter_total)\n",
    "        \n",
    "    z_end_loc = z_start + dz * max_list_size\n",
    "    v_loc = v0\n",
    "    z_list = []\n",
    "    v_list = []\n",
    "    u_list = []\n",
    "\n",
    "    for i in range(iter_total):\n",
    "        z_list_loc = np.arange(z_start, z_end_loc, dz)\n",
    "        z_list_loc, v_list_loc, u_list_loc = vel_gen(St0, u0, v_loc, dz, z_list_loc, a)\n",
    "        \n",
    "        z_start = z_end_loc + dz\n",
    "        z_end_loc += dz * max_list_size + dz\n",
    "        v_loc = v_list_loc[-1]\n",
    "        \n",
    "        z_list.extend(z_list_loc[::int(10*iter_total)])\n",
    "        v_list.extend(v_list_loc[::int(10*iter_total)])\n",
    "        u_list.extend(u_list_loc[::int(10*iter_total)])\n",
    "\n",
    "        if (np.isnan(v_loc)):\n",
    "            print('Number of actual iterations:', i)\n",
    "            break\n",
    "        \n",
    "    return z_list, v_list, u_list"
   ]
  },
  {
   "cell_type": "code",
   "execution_count": 23,
   "metadata": {},
   "outputs": [
    {
     "name": "stdout",
     "output_type": "stream",
     "text": [
      "eta: 0.002528355033486658\n",
      "St_0: 2.9243996537361668e-05\n",
      "St_b: 1.1005734195644796\n",
      "u0: 2.657159987466728e-05\n",
      "max_z: 0.908617255535502\n",
      "T: 0.15854895991882292\n",
      "Array size: 1.17e+11\n",
      "No iterations: 234.0\n"
     ]
    }
   ],
   "source": [
    "R = 1 # in au\n",
    "a = 1e-4 # cm\n",
    "v0 = 0.\n",
    "order = 2\n",
    "max_array_size = 5e8\n",
    "\n",
    "Omega = (np.sqrt(sc.G * 2e30) * 1.5e11**(-1.5)) * R**(-1.5)\n",
    "c_s = 1.5 * R**(-0.25) # in km/s\n",
    "sdot = 2e-12 * (R/10)**(-1.5) # in g/cm2/s\n",
    "sd = 30 * (1/R) # in g/cm2\n",
    "rhos = 3.5 # in g/cm3\n",
    "\n",
    "H_R = c_s / Omega / (1.5e8) / R\n",
    "eta = H_R**2\n",
    "St0 = np.sqrt(2*np.pi)* a * rhos / sd\n",
    "u0 = np.sqrt(2*np.pi) / Omega * sdot / sd\n",
    "\n",
    "Stb = St0 / u0\n",
    "H_c_s = 5e6 / (3600*24*365) * R**1.5 # in yr\n",
    "\n",
    "print('eta:', eta)\n",
    "print('St_0:', St0)\n",
    "print('St_b:', Stb)\n",
    "print('u0:', u0)\n",
    "print('max_z:', 1/Stb)\n",
    "print('T:', H_c_s)\n",
    "\n",
    "print('Array size:', f'{10**order / (St0**2):.2e}')\n",
    "print('No iterations:', np.ceil(10**order / (St0**2) / max_array_size))"
   ]
  },
  {
   "cell_type": "code",
   "execution_count": 24,
   "metadata": {},
   "outputs": [
    {
     "name": "stdout",
     "output_type": "stream",
     "text": [
      "Step size: 7.770597747269288e-12\n",
      "Number of iterations: 2574.0\n",
      "Number of actual iterations: 234\n"
     ]
    }
   ],
   "source": [
    "zl, vl, ul = vel_loop(St0, u0, v0, eta, order, max_array_size, 0, 10)"
   ]
  },
  {
   "cell_type": "code",
   "execution_count": 25,
   "metadata": {},
   "outputs": [],
   "source": [
    "data_fits = fits.PrimaryHDU(data=np.array([zl[::10], vl[::10], ul[::10]]))\n",
    "data_fits.header['a'] = a\n",
    "data_fits.header['a_units'] = 'cm'\n",
    "data_fits.header['R'] = R\n",
    "data_fits.header['R_units'] = 'au'\n",
    "data_fits.header['ST0'] = St0\n",
    "data_fits.header['STB'] = Stb\n",
    "hdul = fits.HDUList([data_fits])\n",
    "hdul.writeto('/data/jhyl3/vel_fits/1-4cm_radial/r'+str(R)+'a1-4cm.fits', overwrite=True)"
   ]
  },
  {
   "cell_type": "code",
   "execution_count": null,
   "metadata": {},
   "outputs": [],
   "source": [
    "R_list = np.arange(10, 110, 10)"
   ]
  },
  {
   "cell_type": "code",
   "execution_count": null,
   "metadata": {},
   "outputs": [],
   "source": [
    "for R in R_list:\n",
    "    a = 1e-1 # cm\n",
    "    v0 = 0.\n",
    "    order = 2\n",
    "    max_array_size = 5e8\n",
    "\n",
    "    Omega = (np.sqrt(sc.G * 2e30) * 1.5e11**(-1.5)) * R**(-1.5)\n",
    "    c_s = 1.5 * R**(-0.25) # in km/s\n",
    "    sdot = 2e-12 * (R/10)**(-1.5) # in g/cm2/s\n",
    "    sd = 30 * (1/R) # in g/cm2\n",
    "    rhos = 3.5 # in g/cm3\n",
    "\n",
    "    H_R = c_s / Omega / (1.5e8) / R\n",
    "    eta = H_R**2\n",
    "    St0 = np.sqrt(2*np.pi)* a * rhos / sd\n",
    "    u0 = np.sqrt(2*np.pi) / Omega * sdot / sd\n",
    "\n",
    "    Stb = St0 / u0\n",
    "    H_c_s = 5e6 / (3600*24*365) * R**1.5 # in yr\n",
    "\n",
    "    zl, vl, ul = vel_loop(St0, u0, v0, eta, order, max_array_size, 0, 10)\n",
    "\n",
    "    data_fits = fits.PrimaryHDU(data=np.array([zl[::10], vl[::10], ul[::10]]))\n",
    "    data_fits.header['a'] = a\n",
    "    data_fits.header['a_units'] = 'cm'\n",
    "    data_fits.header['R'] = R\n",
    "    data_fits.header['R_units'] = 'au'\n",
    "    data_fits.header['ST0'] = St0\n",
    "    data_fits.header['STB'] = Stb\n",
    "    hdul = fits.HDUList([data_fits])\n",
    "    hdul.writeto('/data/jhyl3/vel_fits/1-1cm_radial/r'+str(R)+'a1-1cm.fits', overwrite=True)\n",
    "    "
   ]
  },
  {
   "cell_type": "code",
   "execution_count": 9,
   "metadata": {},
   "outputs": [
    {
     "data": {
      "text/plain": [
       "(0.0, 2.9035307819504043e-05)"
      ]
     },
     "execution_count": 9,
     "metadata": {},
     "output_type": "execute_result"
    },
    {
     "data": {
      "image/png": "[encoded data removed]",
      "text/plain": [
       "<Figure size 500x200 with 1 Axes>"
      ]
     },
     "metadata": {},
     "output_type": "display_data"
    }
   ],
   "source": [
    "plt.plot(zl[::1000], vl[::1000])\n",
    "plt.plot(zl[::10000], ul[::10000], c='gray', ls='--', lw=0.8)\n",
    "plt.ylim(0,np.nanmax(vl[::1000])*1.1)"
   ]
  },
  {
   "cell_type": "code",
   "execution_count": null,
   "metadata": {},
   "outputs": [],
   "source": [
    "v0 = np.logspace(-5,-2, 4)\n",
    "run_1 = vel_loop(St0, u0, v0[0], eta, order, 1e5, 0, 2e-5)\n",
    "run_2 = vel_loop(St0, u0, v0[1], eta, order, 1e5, 0, 2e-5)\n",
    "run_3 = vel_loop(St0, u0, v0[2], eta, order, 1e5, 0, 2e-5)\n",
    "run_4 = vel_loop(St0, u0, v0[3], eta, order, 1e5, 0, 2e-5)"
   ]
  },
  {
   "cell_type": "code",
   "execution_count": null,
   "metadata": {},
   "outputs": [],
   "source": [
    "rcParams['figure.figsize'] = (4,2)\n",
    "color = cm.viridis(np.linspace(1, 0, len(v0)))\n",
    "\n",
    "step=1\n",
    "\n",
    "plt.plot(run_1[0], run_1[2], c='C7', ls='--', lw=0.8)\n",
    "plt.plot(run_1[0], run_1[1], c=color[0], label='$v_0=\\,$'+f'{v0[0]:.0e}')\n",
    "plt.plot(run_2[0], run_2[1], c=color[1], label='$v_0=\\,$'+f'{v0[1]:.0e}')\n",
    "plt.plot(run_3[0], run_3[1], c=color[2], label='$v_0=\\,$'+f'{v0[2]:.0e}')\n",
    "plt.plot(run_4[0], run_4[1], c=color[3], label='$v_0=\\,$'+f'{v0[3]:.0e}')\n",
    "\n",
    "plt.xlim(0,5e-6)\n",
    "plt.yscale('log')\n",
    "plt.ylim(1e-4,1e-1)\n",
    "plt.xlabel('$z$ / $H$')\n",
    "plt.ylabel('$v$ / $c_s$')\n",
    "plt.title('$a=0.3\\,\\\\mathrm{\\mu m}$ at $30\\,\\\\mathrm{au}$', fontsize=9)\n",
    "plt.legend(prop={'size':9})\n",
    "plt.savefig('graphics/3-5cm_30au_v0.png', dpi=300, bbox_inches='tight')"
   ]
  },
  {
   "cell_type": "code",
   "execution_count": null,
   "metadata": {},
   "outputs": [],
   "source": [
    "v0 = np.logspace(-5,-1, 4)\n",
    "list_size = 1e6\n",
    "max_z = 1e-3\n",
    "run_1 = vel_loop(St0, u0, v0[0], eta, order, list_size, 0, max_z)\n",
    "run_2 = vel_loop(St0, u0, v0[1], eta, order, list_size, 0, max_z)\n",
    "run_3 = vel_loop(St0, u0, v0[2], eta, order, list_size, 0, max_z)\n",
    "run_4 = vel_loop(St0, u0, v0[3], eta, order, list_size, 0, max_z)"
   ]
  },
  {
   "cell_type": "code",
   "execution_count": null,
   "metadata": {},
   "outputs": [],
   "source": [
    "plt.plot(run_1[0], run_1[2], c='C7', ls='--', lw=0.8)\n",
    "plt.plot(run_1[0], run_1[1], c=color[0], label='$v_0=\\,$'+f'{v0[0]:.0e}')\n",
    "plt.plot(run_2[0], run_2[1], c=color[1], label='$v_0=\\,$'+f'{v0[1]:.0e}')\n",
    "plt.plot(run_3[0], run_3[1], c=color[2], label='$v_0=\\,$'+f'{v0[2]:.0e}')\n",
    "plt.plot(run_4[0], run_4[1], c=color[3], label='$v_0=\\,$'+f'{v0[3]:.0e}')\n",
    "plt.xlim(0,1e-4)\n",
    "plt.yscale('log')\n",
    "plt.ylim(1e-4,1e-0)\n",
    "plt.xlabel('$z$ / $H$')\n",
    "plt.ylabel('$v$ / $c_s$')"
   ]
  }
 ],
 "metadata": {
  "kernelspec": {
   "display_name": "pyspedas",
   "language": "python",
   "name": "pyspedas"
  },
  "language_info": {
   "codemirror_mode": {
    "name": "ipython",
    "version": 3
   },
   "file_extension": ".py",
   "mimetype": "text/x-python",
   "name": "python",
   "nbconvert_exporter": "python",
   "pygments_lexer": "ipython3",
   "version": "3.12.7"
  }
 },
 "nbformat": 4,
 "nbformat_minor": 2
}
