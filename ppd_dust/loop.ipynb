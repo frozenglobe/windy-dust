{
 "cells": [
  {
   "cell_type": "code",
   "execution_count": 1,
   "metadata": {},
   "outputs": [],
   "source": [
    "import numpy as np\n",
    "import matplotlib.pyplot as plt\n",
    "import math\n",
    "from matplotlib import rcParams\n",
    "import scipy.constants as sc\n",
    "import pandas as pd\n",
    "from numba import njit\n",
    "from astropy.io import fits\n",
    "import os\n",
    "rcParams[\"figure.figsize\"] = (5,2)"
   ]
  },
  {
   "cell_type": "code",
   "execution_count": 2,
   "metadata": {},
   "outputs": [],
   "source": [
    "@njit\n",
    "def vel_gen(St0, u0, v0, dz, z_list, a):\n",
    "    f_loc = v0**2/2\n",
    "    f_list = [f_loc]\n",
    "    u = u0 *  np.exp( 1/a * (1 - ( 1 + a*z_list**2 )**(-0.5) ) )\n",
    "    \n",
    "    for i in range(1, len(z_list)):\n",
    "        v_loc = (2*f_loc)**0.5\n",
    "        f_loc += dz * ( u0/St0 - v_loc/St0 * np.exp( -1/a * (1 - ( 1 + a*z_list[i-1]**2 )**(-0.5) ) ) - z_list[i-1] / (1 + a*z_list[i-1]**2)**(1.5))\n",
    "        f_list.append(f_loc)\n",
    "    \n",
    "    f_list = np.array(f_list)\n",
    "    v_list = ( 2*f_list )**0.5\n",
    "    \n",
    "    return z_list[:len(v_list)], v_list, u[:len(v_list)]\n",
    "\n",
    "@njit\n",
    "def vel_loop(St0, u0, v0, a, order, max_list_size, z_start, z_end):\n",
    "    dz = 10**( np.log10(St0 * u0) - order )\n",
    "    list_length = (z_end - z_start) / dz\n",
    "    iter_total = np.ceil(list_length / max_list_size)\n",
    "    print('Step size:', dz)\n",
    "    print('Number of iterations:', iter_total)\n",
    "        \n",
    "    z_end_loc = z_start + dz * max_list_size\n",
    "    v_loc = v0\n",
    "    z_list = []\n",
    "    v_list = []\n",
    "    u_list = []\n",
    "\n",
    "    for i in range(iter_total):\n",
    "        z_list_loc = np.arange(z_start, z_end_loc, dz)\n",
    "        z_list_loc, v_list_loc, u_list_loc = vel_gen(St0, u0, v_loc, dz, z_list_loc, a)\n",
    "        \n",
    "        z_start = z_end_loc + dz\n",
    "        z_end_loc += dz * max_list_size + dz\n",
    "        v_loc = v_list_loc[-1]\n",
    "        \n",
    "        z_list.extend(z_list_loc[::int(10*iter_total)])\n",
    "        v_list.extend(v_list_loc[::int(10*iter_total)])\n",
    "        u_list.extend(u_list_loc[::int(10*iter_total)])\n",
    "\n",
    "        if (np.isnan(v_loc)):\n",
    "            print('Number of actual iterations:', i)\n",
    "            break\n",
    "        \n",
    "    return z_list, v_list, u_list"
   ]
  },
  {
   "cell_type": "code",
   "execution_count": 4,
   "metadata": {},
   "outputs": [
    {
     "name": "stdout",
     "output_type": "stream",
     "text": [
      "eta: 0.002528355033486658\n",
      "St_0: 8.7731989612085e-06\n",
      "St_b: 0.33017202586934385\n",
      "u0: 2.657159987466728e-05\n",
      "max_z: 3.02872418511834\n",
      "T: 0.15854895991882292\n",
      "Array size: 1.30e+12\n",
      "No iterations: 2599.0\n"
     ]
    }
   ],
   "source": [
    "R = 1 # in au\n",
    "a = 3e-5 # cm\n",
    "v0 = 0.\n",
    "order = 2\n",
    "max_array_size = 5e8\n",
    "\n",
    "Omega = (np.sqrt(sc.G * 2e30) * 1.5e11**(-1.5)) * R**(-1.5)\n",
    "c_s = 1.5 * R**(-0.25) # in km/s\n",
    "sdot = 2e-12 * (R/10)**(-1.5) # in g/cm2/s\n",
    "sd = 30 * (1/R) # in g/cm2\n",
    "rhos = 3.5 # in g/cm3\n",
    "\n",
    "H_R = c_s / Omega / (1.5e8) / R\n",
    "eta = H_R**2\n",
    "St0 = np.sqrt(2*np.pi)* a * rhos / sd\n",
    "u0 = np.sqrt(2*np.pi) / Omega * sdot / sd\n",
    "\n",
    "Stb = St0 / u0\n",
    "H_c_s = 5e6 / (3600*24*365) * R**1.5 # in yr\n",
    "\n",
    "print('eta:', eta)\n",
    "print('St_0:', St0)\n",
    "print('St_b:', Stb)\n",
    "print('u0:', u0)\n",
    "print('max_z:', 1/Stb)\n",
    "print('T:', H_c_s)\n",
    "\n",
    "print('Array size:', f'{10**order / (St0**2):.2e}')\n",
    "print('No iterations:', np.ceil(10**order / (St0**2) / max_array_size))"
   ]
  },
  {
   "cell_type": "code",
   "execution_count": 5,
   "metadata": {},
   "outputs": [
    {
     "name": "stdout",
     "output_type": "stream",
     "text": [
      "Step size: 2.3311793241807872e-12\n",
      "Number of iterations: 8580.0\n",
      "Number of actual iterations: 2696\n"
     ]
    }
   ],
   "source": [
    "zl, vl, ul = vel_loop(St0, u0, v0, eta, order, max_array_size, 0, 10)"
   ]
  },
  {
   "cell_type": "code",
   "execution_count": 6,
   "metadata": {},
   "outputs": [],
   "source": [
    "data_fits = fits.PrimaryHDU(data=np.array([zl[::10], vl[::10], ul[::10]]))\n",
    "data_fits.header['a'] = a\n",
    "data_fits.header['a_units'] = 'cm'\n",
    "data_fits.header['R'] = R\n",
    "data_fits.header['R_units'] = 'au'\n",
    "data_fits.header['ST0'] = St0\n",
    "data_fits.header['STB'] = Stb\n",
    "hdul = fits.HDUList([data_fits])\n",
    "hdul.writeto('/data/jhyl3/vel_fits/3-5cm_radial/r'+str(R)+'a3-5cm.fits', overwrite=True)"
   ]
  },
  {
   "cell_type": "code",
   "execution_count": null,
   "metadata": {},
   "outputs": [],
   "source": [
    "zl, vl, ul = vel_loop(St0, u0, v0, eta, order, 1e5, 0, 4e-6)"
   ]
  },
  {
   "cell_type": "code",
   "execution_count": null,
   "metadata": {},
   "outputs": [],
   "source": [
    "plt.plot(zl[:1000], vl[:1000])\n",
    "plt.plot(zl[:1000], ul[:1000], c='gray', ls='--', lw=0.8)\n",
    "plt.xlim(0, 1e-6)"
   ]
  },
  {
   "cell_type": "code",
   "execution_count": null,
   "metadata": {},
   "outputs": [],
   "source": [
    "data_fits = fits.PrimaryHDU(data=np.array([zl[:1000], vl[:1000], ul[:1000]]))\n",
    "data_fits.header['a'] = a\n",
    "data_fits.header['a_units'] = 'cm'\n",
    "data_fits.header['R'] = R\n",
    "data_fits.header['R_units'] = 'au'\n",
    "data_fits.header['ST0'] = St0\n",
    "data_fits.header['STB'] = Stb\n",
    "hdul = fits.HDUList([data_fits])\n",
    "hdul.writeto('/data/jhyl3/vel_fits/r'+str(R)+'a1-4cm_initial.fits', overwrite=True)"
   ]
  },
  {
   "cell_type": "code",
   "execution_count": null,
   "metadata": {},
   "outputs": [],
   "source": [
    "plt.plot(zl[::1000], vl[::1000])\n",
    "plt.plot(zl[::10000], ul[::10000], c='gray', ls='--', lw=0.8)\n",
    "plt.ylim(0,np.nanmax(vl[::1000])*1.1)"
   ]
  },
  {
   "cell_type": "code",
   "execution_count": null,
   "metadata": {},
   "outputs": [],
   "source": [
    "plt.plot(zl[::1000], vl[::1000])\n",
    "plt.plot(zl[::10000], ul[::10000], c='gray', ls='--', lw=0.8)\n",
    "plt.plot(zl2[::10000], ul2[::10000], c='red', ls='--', lw=0.8)\n",
    "plt.plot(zl2[::1000], vl2[::1000], c='C0')\n",
    "plt.axvline(1/Stb, c='C3',ls=':', lw=0.8)\n",
    "plt.ylim(0, 20)\n",
    "plt.ylabel('$u$ / $c_s$')\n",
    "plt.xlim(0,20)\n",
    "plt.xlabel('$z$ / $H$')"
   ]
  },
  {
   "cell_type": "markdown",
   "metadata": {},
   "source": [
    "### Cell graveyard"
   ]
  },
  {
   "cell_type": "code",
   "execution_count": null,
   "metadata": {},
   "outputs": [],
   "source": [
    "zl2, vl2, ul2 = vel_loop(St0, u0, vl[-1], eta, order, max_array_size, zl[-1])"
   ]
  },
  {
   "cell_type": "code",
   "execution_count": null,
   "metadata": {},
   "outputs": [],
   "source": [
    "zlc = zl + zl2\n",
    "vlc = vl + vl2\n",
    "ulc = ul + ul2"
   ]
  },
  {
   "cell_type": "code",
   "execution_count": null,
   "metadata": {},
   "outputs": [],
   "source": [
    "np.array([zlc[::10], vlc[::10], ulc[::10]]).nbytes / 1e6"
   ]
  },
  {
   "cell_type": "code",
   "execution_count": null,
   "metadata": {},
   "outputs": [],
   "source": [
    "data_fits = fits.PrimaryHDU(data=np.array([zlc[::10], vlc[::10], ulc[::10]]))\n",
    "data_fits.header['a'] = a\n",
    "data_fits.header['a_units'] = 'cm'\n",
    "data_fits.header['R'] = R\n",
    "data_fits.header['R_units'] = 'au'\n",
    "data_fits.header['ST0'] = St0\n",
    "data_fits.header['STB'] = Stb\n",
    "hdul = fits.HDUList([data_fits])\n",
    "hdul.writeto('/data/jhyl3/vel_fits/r'+str(R)+'a-5cm.fits', overwrite=True)"
   ]
  }
 ],
 "metadata": {
  "kernelspec": {
   "display_name": "Python 3",
   "language": "python",
   "name": "python3"
  },
  "language_info": {
   "codemirror_mode": {
    "name": "ipython",
    "version": 3
   },
   "file_extension": ".py",
   "mimetype": "text/x-python",
   "name": "python",
   "nbconvert_exporter": "python",
   "pygments_lexer": "ipython3",
   "version": "3.12.7"
  }
 },
 "nbformat": 4,
 "nbformat_minor": 2
}
