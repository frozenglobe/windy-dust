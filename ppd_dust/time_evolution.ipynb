{
 "cells": [
  {
   "cell_type": "code",
   "execution_count": 1,
   "metadata": {},
   "outputs": [],
   "source": [
    "import numpy as np\n",
    "import matplotlib.pyplot as plt\n",
    "import math\n",
    "from matplotlib import rcParams\n",
    "import scipy.constants as sc\n",
    "import pandas as pd\n",
    "from numba import njit\n",
    "rcParams[\"figure.figsize\"] = (4,2)"
   ]
  },
  {
   "cell_type": "code",
   "execution_count": 15,
   "metadata": {},
   "outputs": [
    {
     "name": "stdout",
     "output_type": "stream",
     "text": [
      "eta 0.007995360639369134\n",
      "St_0 8.7731989612085e-05\n",
      "St_b 0.33017202586934385\n",
      "u0 0.00026571599874667285\n",
      "max_z 3.02872418511834\n",
      "T 5.042111229030723\n"
     ]
    }
   ],
   "source": [
    "R = 10 # in au\n",
    "a = 3e-5 # cm\n",
    "v0 = 0.\n",
    "z0 = 0.\n",
    "Omega = (np.sqrt(sc.G * 2e30) * 1.5e11**(-1.5)) * R**(-1.5)\n",
    "sd = 30 * (1/R) # in g/cm2\n",
    "rhos = 3.5 # in g/cm3\n",
    "c_s = 1.5 * R**(-0.25) # in km/s\n",
    "H_R = c_s / Omega / (1.5e8) / R\n",
    "eta = H_R**2\n",
    "s_dot = 2e-12 * (R/10)**(-1.5)\n",
    "\n",
    "St0 = np.sqrt(2*np.pi)* a * rhos / sd\n",
    "u0 = np.sqrt(2*np.pi) / Omega * s_dot / sd\n",
    "Stb = St0 / u0\n",
    "H_c_s = 1/Omega / (3600*24*365) # in yr\n",
    "\n",
    "print('eta', eta)\n",
    "print('St_0', St0)\n",
    "print('St_b', Stb)\n",
    "print('u0', u0)\n",
    "print('max_z', 1/Stb)\n",
    "print('T', H_c_s)"
   ]
  },
  {
   "cell_type": "code",
   "execution_count": 23,
   "metadata": {},
   "outputs": [],
   "source": [
    "@njit\n",
    "def gendyn(dt0):\n",
    "    z_2 = z0\n",
    "    z_1 = dt0 * v0\n",
    "    t_list = [0, dt0]\n",
    "    z_list = [z_2, z_1]\n",
    "    t_loc = dt0\n",
    "    n=int(1.5e9)\n",
    "    def f(eta,z): return np.exp( -1/eta * (1 - ( 1 + eta*z**2 )**(-0.5) ) )\n",
    "    for i in range(n):\n",
    "    #     u_1 = u0 * f(eta,z_1)\n",
    "    #     print(u_1)\n",
    "        dt = dt0 / f(eta,z_1)\n",
    "        z_0 = 2 * z_1 - z_2 + dt * ( - (z_1 - z_2) / (St0) * f(eta,z_1) ) + dt**2 * ( 1/Stb - z_1 )\n",
    "        z_list.append(z_0)\n",
    "        z_2 = z_1\n",
    "        z_1 = z_0\n",
    "        t_loc+=dt\n",
    "        t_list.append(t_loc)\n",
    "    return t_list, z_list"
   ]
  },
  {
   "cell_type": "code",
   "execution_count": 24,
   "metadata": {},
   "outputs": [
    {
     "ename": "",
     "evalue": "",
     "output_type": "error",
     "traceback": [
      "\u001b[1;31mThe Kernel crashed while executing code in the current cell or a previous cell. \n",
      "\u001b[1;31mPlease review the code in the cell(s) to identify a possible cause of the failure. \n",
      "\u001b[1;31mClick <a href='https://aka.ms/vscodeJupyterKernelCrash'>here</a> for more info. \n",
      "\u001b[1;31mView Jupyter <a href='command:jupyter.viewOutput'>log</a> for further details."
     ]
    }
   ],
   "source": [
    "b = gendyn(1e-1*St0)\n",
    "c = np.sum(~np.isnan(b[1]))"
   ]
  },
  {
   "cell_type": "code",
   "execution_count": 22,
   "metadata": {},
   "outputs": [
    {
     "data": {
      "text/plain": [
       "(0.0, 0.23960658970760304)"
      ]
     },
     "execution_count": 22,
     "metadata": {},
     "output_type": "execute_result"
    },
    {
     "data": {
      "image/png": "[encoded data removed]",
      "text/plain": [
       "<Figure size 400x200 with 1 Axes>"
      ]
     },
     "metadata": {},
     "output_type": "display_data"
    }
   ],
   "source": [
    "rcParams['figure.figsize'] = (4,2)\n",
    "plt.plot([i*H_c_s for i in b[0][:c]][::100],b[1][:c][::100],c='C0')\n",
    "plt.xlabel('$t$ / yr')\n",
    "plt.ylabel('$z$ / $H$')\n",
    "# plt.xlim(0,400)\n",
    "plt.ylim(0)\n",
    "# plt.title('Time evolution, $a=0.1\\,\\mathrm{cm}$, $R=10\\,\\mathrm{au}$', fontsize=9)"
   ]
  },
  {
   "cell_type": "code",
   "execution_count": null,
   "metadata": {},
   "outputs": [],
   "source": []
  }
 ],
 "metadata": {
  "kernelspec": {
   "display_name": "pyspedas",
   "language": "python",
   "name": "pyspedas"
  },
  "language_info": {
   "codemirror_mode": {
    "name": "ipython",
    "version": 3
   },
   "file_extension": ".py",
   "mimetype": "text/x-python",
   "name": "python",
   "nbconvert_exporter": "python",
   "pygments_lexer": "ipython3",
   "version": "3.12.7"
  }
 },
 "nbformat": 4,
 "nbformat_minor": 2
}
