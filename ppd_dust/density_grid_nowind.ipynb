{
 "cells": [
  {
   "cell_type": "code",
   "execution_count": 2,
   "metadata": {},
   "outputs": [],
   "source": [
    "from astropy.io import fits\n",
    "import numpy as np\n",
    "import matplotlib.pyplot as plt\n",
    "from matplotlib import rcParams, cm, ticker\n",
    "import os\n",
    "import scipy.constants as sc\n",
    "from scipy.optimize import bisect, newton\n",
    "rcParams['figure.figsize'] = (4,2)"
   ]
  },
  {
   "cell_type": "code",
   "execution_count": 3,
   "metadata": {},
   "outputs": [],
   "source": [
    "# radius\n",
    "P = 400\n",
    "r_in = 0.1 # disc inner radius in au\n",
    "r_out = 400 # disc outer radius in au\n",
    "R = np.logspace(np.log10(r_in), np.log10(r_out), P+1)\n",
    "# mcfost_R = fits.open('/data/jhyl3/mcfost_files/run_07/data_disk_6/grid.fits.gz')[0].data[0,0,0]\n",
    "# R = mcfost_R\n",
    "\n",
    "# height\n",
    "N = 150\n",
    "z = np.linspace(0,10,N+1)[:-1]\n",
    "\n",
    "eps = 1e-4 # minimum height above midplane considered in H\n",
    "\n",
    "# grain size\n",
    "M = int(3e3)\n",
    "a_min = 0.03 / 1e4 # minimum grain size in cm, input in microns\n",
    "# a_min = 0.9 / 1e4 # minimum grain size in cm, input in microns\n",
    "a_max = 1000 / 1e4 # maximum grain size in cm, input in microns\n",
    "a = np.logspace(np.log10(a_min), np.log10(a_max), M) # generate grain size list (log dist) in cm\n",
    "\n",
    "c_s = 1.5 * R**(-0.25) # in km/s\n",
    "Omega = (np.sqrt(sc.G * 2e30) * 1.5e11**(-1.5)) * R**(-1.5)\n",
    "sdot = 2e-12 * (R/10)**(-1.5) # in g/cm2/s\n",
    "sd = 30 * (1/R) # in g/cm2\n",
    "rhos = 3.5 # in g/cm3\n",
    "H = c_s / (1.5e8) / Omega # in au\n",
    "H_R = c_s / Omega / (1.5e8) / R\n",
    "u0 = np.sqrt(2*np.pi) / Omega * sdot / sd\n",
    "rho0 = sd / np.sqrt(2*np.pi) / (c_s * 1e5) * Omega\n",
    "k = sdot / rhos / Omega # in cm"
   ]
  },
  {
   "cell_type": "code",
   "execution_count": 4,
   "metadata": {},
   "outputs": [],
   "source": [
    "def newton_plot(a):\n",
    "    f = lambda z, k, a: k/a * (1 + (H_R*z)**2) ** (3/2) - z\n",
    "    fdev = lambda z, k, a: k/a * 3 * (1 + (H_R*z)**2 ) ** 0.5 * H_R * z - 1\n",
    "    rf, converge = newton(f, k/a, args=(k, a), fprime=fdev, maxiter=3000, full_output=True)[:-1]\n",
    "    idx = np.sum(converge)-1\n",
    "    plt.scatter(R[:idx], rf[:idx]*H[:idx], c='C4', marker='x', s=5)\n",
    "    plt.show()\n",
    "\n",
    "def bisect_plot(a):\n",
    "    g = lambda a: 2 * 3**-1.5 / H_R[:-1] - k[0] / a\n",
    "    lb_loc = k[0]/a # lower bound for root finding\n",
    "    solution_check = np.sum(g(a)>0)\n",
    "    root_R = []\n",
    "    if solution_check == 0:\n",
    "        print('No solution')\n",
    "        return\n",
    "    else:\n",
    "        for j in range(solution_check):\n",
    "            g_loc = lambda z: z / (1 + (H_R[j]*z)**2) ** (3/2) - k[0]/a\n",
    "            result = bisect(g_loc, lb_loc, 2**-0.5 / H_R[j], maxiter=2000)\n",
    "            lb_loc = result-2\n",
    "            root_R.append(result)\n",
    "        root_R =np.array(root_R)\n",
    "        plt.scatter(R[:len(root_R)], root_R, marker='x', s=5, c='C3')\n",
    "        plt.show()"
   ]
  },
  {
   "cell_type": "code",
   "execution_count": 17,
   "metadata": {},
   "outputs": [
    {
     "data": {
      "image/png": "[encoded data removed]",
      "text/plain": [
       "<Figure size 400x200 with 1 Axes>"
      ]
     },
     "metadata": {},
     "output_type": "display_data"
    }
   ],
   "source": [
    "newton_plot(1e-1)"
   ]
  },
  {
   "cell_type": "code",
   "execution_count": 14,
   "id": "e3bdc653",
   "metadata": {},
   "outputs": [
    {
     "data": {
      "text/plain": [
       "15.855881143779056"
      ]
     },
     "execution_count": 14,
     "metadata": {},
     "output_type": "execute_result"
    }
   ],
   "source": [
    "H[345]"
   ]
  },
  {
   "cell_type": "code",
   "execution_count": 15,
   "id": "b2cef26e",
   "metadata": {},
   "outputs": [
    {
     "data": {
      "text/plain": [
       "[<matplotlib.lines.Line2D at 0x7fc0243f3b60>]"
      ]
     },
     "execution_count": 15,
     "metadata": {},
     "output_type": "execute_result"
    },
    {
     "data": {
      "image/png": "[encoded data removed]",
      "text/plain": [
       "<Figure size 400x200 with 1 Axes>"
      ]
     },
     "metadata": {},
     "output_type": "display_data"
    }
   ],
   "source": [
    "plt.plot(R, H)"
   ]
  },
  {
   "cell_type": "code",
   "execution_count": 287,
   "metadata": {},
   "outputs": [
    {
     "name": "stdout",
     "output_type": "stream",
     "text": [
      "Minimum grain size: 0.10230348191004603 microns\n",
      "Maximum grain size: 799.9999999999999 microns\n",
      "Number of grains: 2639\n"
     ]
    }
   ],
   "source": [
    "g = lambda a: 2 * 3**-1.5 / H_R - k[0] / a\n",
    "a_pop = []\n",
    "\n",
    "root_list = []\n",
    "lower_bounds = k[0]/a # lower bound for root finding\n",
    "\n",
    "for i in range(len(a)):\n",
    "    root_R = []\n",
    "    lb_loc = lower_bounds[i] # local lower bound at specific grain size\n",
    "    solution_check = np.sum(g(a[i])>0) # length of grain sizes that have solutions\n",
    "    if solution_check == 0:\n",
    "        a_pop.append(a[i])\n",
    "        continue\n",
    "    for j in range(solution_check):\n",
    "        g_loc = lambda z: z / (1 + (H_R[j]*z)**2) ** (3/2) - k[0]/a[i]\n",
    "        result = bisect(g_loc, lb_loc, 2**-0.5 / H_R[j], maxiter=2000)\n",
    "        lb_loc = result-2\n",
    "        root_R.append(result)\n",
    "    root_R = np.array(root_R)\n",
    "    root_full_R = np.full((P,), np.nan)\n",
    "    root_full_R[:solution_check] = root_R\n",
    "    root_list.append(root_full_R)\n",
    "\n",
    "root_list = np.array(root_list)\n",
    "a_1 = np.array(sorted(set(a) - set(a_pop)))\n",
    "\n",
    "root_list_copy = np.copy(root_list)\n",
    "root_list_copy[(root_list_copy > 10)] = np.nan\n",
    "settle_idx = np.sum(np.sum(~np.isnan(root_list_copy), axis=1)==0)\n",
    "a_2 = np.copy(a_1)[settle_idx:]\n",
    "root_list_copy = root_list_copy[settle_idx:]\n",
    "\n",
    "gs_list = np.sum(np.isnan(root_list_copy), axis=0)\n",
    "scale = []\n",
    "for l in range(len(gs_list)):\n",
    "    scale.append(sd[l] / np.sum(a_2[gs_list[l]:]**0.5))\n",
    "\n",
    "n_a = []\n",
    "for i in range(len(a_2)):\n",
    "    root_list_loc = root_list_copy[i]\n",
    "    root_list_loc = root_list_loc[~np.isnan(root_list_loc)]\n",
    "    n_ZR = np.zeros((N,P))\n",
    "    for j in range(len(root_list_loc)):\n",
    "        n_ZR[np.sum(root_list_loc[j] > z)-1, j] = scale[j] * a_2[i]**-2.5\n",
    "    n_a_append = np.reshape(n_ZR, (1, N, P))\n",
    "    n_a.append(n_a_append)\n",
    "\n",
    "n_a = np.array(n_a)\n",
    "\n",
    "print('Minimum grain size:', a_2[0]*1e4, \"microns\")\n",
    "print('Maximum grain size:', a_2[-1]*1e4, \"microns\")\n",
    "print('Number of grains:', len(a_2))"
   ]
  },
  {
   "cell_type": "code",
   "execution_count": 353,
   "metadata": {},
   "outputs": [
    {
     "data": {
      "text/plain": [
       "<matplotlib.legend.Legend at 0x7f35abda1df0>"
      ]
     },
     "execution_count": 353,
     "metadata": {},
     "output_type": "execute_result"
    },
    {
     "data": {
      "image/png": "[encoded data removed]",
      "text/plain": [
       "<Figure size 400x200 with 1 Axes>"
      ]
     },
     "metadata": {},
     "output_type": "display_data"
    }
   ],
   "source": [
    "# mass_pgs = []\n",
    "# for i in range(len(a_2)):\n",
    "#     mass_pgs.append(a_2[i]**3 * n_a[i,0])\n",
    "# mass_pgs = np.array(mass_pgs)\n",
    "\n",
    "# plt.scatter(R, np.sum(np.sum(mass_pgs, axis=0), axis=0), marker='x', s=5)\n",
    "\n",
    "plt.plot(R, np.sum(np.sum(n_a[:,0], axis=1) * np.tile(a_2**3, (300, 1)).T, axis=0))\n",
    "\n",
    "plt.plot(R, 30/R, label=r'$30/R$', c='C1', ls='--')\n",
    "plt.xscale('log')\n",
    "plt.xlabel(r'$R$ / au')\n",
    "plt.ylabel('surface density')\n",
    "plt.yscale('log')\n",
    "plt.legend(prop={'size': 8})"
   ]
  },
  {
   "cell_type": "code",
   "execution_count": 283,
   "metadata": {},
   "outputs": [
    {
     "data": {
      "text/plain": [
       "<matplotlib.legend.Legend at 0x7f35ac0a3da0>"
      ]
     },
     "execution_count": 283,
     "metadata": {},
     "output_type": "execute_result"
    },
    {
     "data": {
      "image/png": "[encoded data removed]",
      "text/plain": [
       "<Figure size 400x200 with 1 Axes>"
      ]
     },
     "metadata": {},
     "output_type": "display_data"
    }
   ],
   "source": [
    "plt.scatter(R[:-1], scale, marker='x', s=2, label='scale')\n",
    "plt.plot(R, 1/R, label=r'$\\sim R^{-1}$', c='C4')\n",
    "plt.xscale('log')\n",
    "plt.yscale('log')\n",
    "plt.legend()"
   ]
  },
  {
   "cell_type": "code",
   "execution_count": 270,
   "metadata": {},
   "outputs": [],
   "source": [
    "density_grid = fits.PrimaryHDU(n_a)\n",
    "grain_size = fits.ImageHDU(a_2*1e4)\n",
    "density_grid.header['read_n_a'] = 0\n",
    "hdulist = fits.HDUList([density_grid, grain_size])\n",
    "hdulist.writeto('/data/jhyl3/mcfost_files/run_07/no_wind_density_6.fits', overwrite=True)"
   ]
  },
  {
   "cell_type": "code",
   "execution_count": 293,
   "metadata": {},
   "outputs": [
    {
     "data": {
      "text/plain": [
       "<matplotlib.colorbar.Colorbar at 0x7f35aa44b620>"
      ]
     },
     "execution_count": 293,
     "metadata": {},
     "output_type": "execute_result"
    },
    {
     "data": {
      "image/png": "[encoded data removed]",
      "text/plain": [
       "<Figure size 400x200 with 2 Axes>"
      ]
     },
     "metadata": {},
     "output_type": "display_data"
    }
   ],
   "source": [
    "plt.imshow(n_a[500,0], origin='lower')\n",
    "plt.colorbar()"
   ]
  }
 ],
 "metadata": {
  "kernelspec": {
   "display_name": "pyspedas",
   "language": "python",
   "name": "pyspedas"
  },
  "language_info": {
   "codemirror_mode": {
    "name": "ipython",
    "version": 3
   },
   "file_extension": ".py",
   "mimetype": "text/x-python",
   "name": "python",
   "nbconvert_exporter": "python",
   "pygments_lexer": "ipython3",
   "version": "3.12.7"
  }
 },
 "nbformat": 4,
 "nbformat_minor": 5
}
