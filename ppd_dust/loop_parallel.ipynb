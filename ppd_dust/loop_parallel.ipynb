{
 "cells": [
  {
   "cell_type": "code",
   "execution_count": 1,
   "metadata": {},
   "outputs": [],
   "source": [
    "import numpy as np\n",
    "import matplotlib.pyplot as plt\n",
    "import math\n",
    "from matplotlib import rcParams\n",
    "import scipy.constants as sc\n",
    "import pandas as pd\n",
    "import numba\n",
    "from astropy.io import fits\n",
    "from IPython.display import clear_output\n",
    "import time\n",
    "rcParams[\"figure.figsize\"] = (5,2)"
   ]
  },
  {
   "cell_type": "markdown",
   "metadata": {},
   "source": [
    "### Attempt to parallelize the process... but njit does not like it"
   ]
  },
  {
   "cell_type": "code",
   "execution_count": 41,
   "metadata": {},
   "outputs": [],
   "source": [
    "@numba.njit\n",
    "def vel_gen(St0, u0, v0, dz, z_list, a):\n",
    "    f_loc = v0**2/2\n",
    "    f_list = [f_loc]\n",
    "    u = u0 *  np.exp( 1/a * (1 - ( 1 + a*z_list**2 )**(-0.5) ) )\n",
    "    \n",
    "    for i in range(1, len(z_list)):\n",
    "        v_loc = (2*f_loc)**0.5\n",
    "        f_loc += dz * ( u0/St0 - v_loc/St0 * np.exp( -1/a * (1 - ( 1 + a*z_list[i-1]**2 )**(-0.5) ) ) - z_list[i-1] / (1 + a*z_list[i-1]**2)**(1.5))\n",
    "        f_list.append(f_loc)\n",
    "    \n",
    "    f_list = np.array(f_list)\n",
    "    v_list = ( 2*f_list )**0.5\n",
    "    \n",
    "    return z_list[:len(v_list)], v_list, u[:len(v_list)]\n",
    "\n",
    "@numba.njit\n",
    "def vel_loop(St0, u0, v0, a, order, max_list_size, z_start, z_end):\n",
    "    dz = 10**( np.log10(St0 * u0) - order )\n",
    "    # list_length = 10**order / (St0 ** 2)\n",
    "    list_length = (z_end - z_start) / dz\n",
    "    # print('List length:', list_length)\n",
    "    # print('original:', 10**order / (St0 ** 2))\n",
    "    iter_total = np.ceil(list_length / max_list_size)\n",
    "    # print('Step size:', dz)\n",
    "    # print('Number of potential iterations:', iter_total)\n",
    "#     print('List length:', f'{list_length:.2e}')\n",
    "    \n",
    "    Stb_i = u0 / St0\n",
    "    \n",
    "    # z_start\n",
    "    z_end_0 = z_start + dz * max_list_size\n",
    "    v_loc = v0\n",
    "\n",
    "    P = len(St0)\n",
    "    # all_list = np.empty((3,))\n",
    "    all_list = []\n",
    "    \n",
    "    for j in range(P):\n",
    "        z_list = []\n",
    "        v_list = []\n",
    "        u_list = []\n",
    "        z_start_loc = z_start\n",
    "        z_end_loc = z_end_0[j]\n",
    "        for i in range(iter_total[j]):\n",
    "            z_list_loc = np.arange(z_start_loc, z_end_loc, dz[j])\n",
    "            z_list_loc, v_list_loc, u_list_loc = vel_gen(St0[j], u0[j], v_loc, dz[j], z_list_loc, a[j])\n",
    "            \n",
    "            z_start_loc = z_end_loc + dz[j]\n",
    "            z_end_loc += dz[j] * max_list_size + dz[j]\n",
    "            v_loc = v_list_loc[-1]\n",
    "            \n",
    "            z_list.extend(z_list_loc[::int(10*iter_total[j])])\n",
    "            v_list.extend(v_list_loc[::int(10*iter_total[j])])\n",
    "            u_list.extend(u_list_loc[::int(10*iter_total[j])])\n",
    "\n",
    "            if (np.isnan(v_loc)):\n",
    "                # print('Number of actual iterations:', i)\n",
    "                break\n",
    "        # all_list.append(np.array([z_list, v_list, u_list]))\n",
    "        # all_list[j] = np.array([z_list, v_list, u_list])\n",
    "        all_list = all_list + [np.array([z_list, v_list, u_list])]\n",
    "\n",
    "    return all_list"
   ]
  },
  {
   "cell_type": "code",
   "execution_count": 29,
   "metadata": {},
   "outputs": [
    {
     "name": "stdout",
     "output_type": "stream",
     "text": [
      "eta: [0.01787817 0.02528355]\n",
      "St_0: [0.014622 0.029244]\n",
      "St_b: [11.0057342 11.0057342]\n",
      "u0: [0.00132858 0.00265716]\n",
      "max_z: [0.09086173 0.09086173]\n",
      "T: [ 56.05552235 158.54895992]\n",
      "No iterations: [1. 1.]\n"
     ]
    }
   ],
   "source": [
    "# R = 10 # in au\n",
    "P = 2\n",
    "R = np.logspace(np.log10(50), np.log10(100), P) # in au\n",
    "a = 1e-3 # cm\n",
    "v0 = 0.\n",
    "order = 2\n",
    "max_array_size = 1e6\n",
    "\n",
    "Omega = (np.sqrt(sc.G * 2e30) * 1.5e11**(-1.5)) * R**(-1.5)\n",
    "c_s = 1.5 * R**(-0.25) # in km/s\n",
    "sdot = 2e-12 * (R/10)**(-1.5) # in g/cm2/s\n",
    "sd = 30 * (1/R) # in g/cm2\n",
    "rhos = 3.5 # in g/cm3\n",
    "\n",
    "H_R = c_s / Omega / (1.5e8) / R\n",
    "eta = H_R**2\n",
    "St0 = np.sqrt(2*np.pi)* a * rhos / sd\n",
    "u0 = np.sqrt(2*np.pi) / Omega * sdot / sd\n",
    "\n",
    "Stb = St0 / u0\n",
    "H_c_s = 5e6 / (3600*24*365) * R**1.5 # in yr\n",
    "\n",
    "print('eta:', eta)\n",
    "print('St_0:', St0)\n",
    "print('St_b:', Stb)\n",
    "print('u0:', u0)\n",
    "print('max_z:', 1/Stb)\n",
    "print('T:', H_c_s)\n",
    "\n",
    "# print('Array size:', f'{10**order / (St0**2):.2e}')\n",
    "print('No iterations:', np.ceil(10**order / (St0**2) / max_array_size))"
   ]
  },
  {
   "cell_type": "code",
   "execution_count": 42,
   "metadata": {},
   "outputs": [
    {
     "ename": "TypingError",
     "evalue": "Failed in nopython mode pipeline (step: nopython frontend)\nCannot infer the type of variable 'all_list', have imprecise type: list(undefined)<iv=None>. \n\nFor Numba to be able to compile a list, the list must have a known and\nprecise type that can be inferred from the other variables. Whilst sometimes\nthe type of empty lists can be inferred, this is not always the case, see this\ndocumentation for help:\n\nhttps://numba.readthedocs.io/en/stable/user/troubleshoot.html#my-code-has-an-untyped-list-problem\n\n\nFile \"../../../../tmp/ipykernel_1751402/3845865263.py\", line 37:\n<source missing, REPL/exec in use?>\n\nDuring: Pass nopython_type_inference",
     "output_type": "error",
     "traceback": [
      "\u001b[0;31m---------------------------------------------------------------------------\u001b[0m",
      "\u001b[0;31mTypingError\u001b[0m                               Traceback (most recent call last)",
      "Cell \u001b[0;32mIn[42], line 1\u001b[0m\n\u001b[0;32m----> 1\u001b[0m test \u001b[38;5;241m=\u001b[39m vel_loop(St0, u0, v0, eta, order, max_array_size, \u001b[38;5;241m0\u001b[39m, \u001b[38;5;241m10\u001b[39m)\n",
      "File \u001b[0;32m~/.conda/envs/pyspedas/lib/python3.12/site-packages/numba/core/dispatcher.py:424\u001b[0m, in \u001b[0;36m_DispatcherBase._compile_for_args\u001b[0;34m(self, *args, **kws)\u001b[0m\n\u001b[1;32m    420\u001b[0m         msg \u001b[38;5;241m=\u001b[39m (\u001b[38;5;124mf\u001b[39m\u001b[38;5;124m\"\u001b[39m\u001b[38;5;132;01m{\u001b[39;00m\u001b[38;5;28mstr\u001b[39m(e)\u001b[38;5;241m.\u001b[39mrstrip()\u001b[38;5;132;01m}\u001b[39;00m\u001b[38;5;124m \u001b[39m\u001b[38;5;130;01m\\n\u001b[39;00m\u001b[38;5;130;01m\\n\u001b[39;00m\u001b[38;5;124mThis error may have been caused \u001b[39m\u001b[38;5;124m\"\u001b[39m\n\u001b[1;32m    421\u001b[0m                \u001b[38;5;124mf\u001b[39m\u001b[38;5;124m\"\u001b[39m\u001b[38;5;124mby the following argument(s):\u001b[39m\u001b[38;5;130;01m\\n\u001b[39;00m\u001b[38;5;132;01m{\u001b[39;00margs_str\u001b[38;5;132;01m}\u001b[39;00m\u001b[38;5;130;01m\\n\u001b[39;00m\u001b[38;5;124m\"\u001b[39m)\n\u001b[1;32m    422\u001b[0m         e\u001b[38;5;241m.\u001b[39mpatch_message(msg)\n\u001b[0;32m--> 424\u001b[0m     error_rewrite(e, \u001b[38;5;124m'\u001b[39m\u001b[38;5;124mtyping\u001b[39m\u001b[38;5;124m'\u001b[39m)\n\u001b[1;32m    425\u001b[0m \u001b[38;5;28;01mexcept\u001b[39;00m errors\u001b[38;5;241m.\u001b[39mUnsupportedError \u001b[38;5;28;01mas\u001b[39;00m e:\n\u001b[1;32m    426\u001b[0m     \u001b[38;5;66;03m# Something unsupported is present in the user code, add help info\u001b[39;00m\n\u001b[1;32m    427\u001b[0m     error_rewrite(e, \u001b[38;5;124m'\u001b[39m\u001b[38;5;124munsupported_error\u001b[39m\u001b[38;5;124m'\u001b[39m)\n",
      "File \u001b[0;32m~/.conda/envs/pyspedas/lib/python3.12/site-packages/numba/core/dispatcher.py:365\u001b[0m, in \u001b[0;36m_DispatcherBase._compile_for_args.<locals>.error_rewrite\u001b[0;34m(e, issue_type)\u001b[0m\n\u001b[1;32m    363\u001b[0m     \u001b[38;5;28;01mraise\u001b[39;00m e\n\u001b[1;32m    364\u001b[0m \u001b[38;5;28;01melse\u001b[39;00m:\n\u001b[0;32m--> 365\u001b[0m     \u001b[38;5;28;01mraise\u001b[39;00m e\u001b[38;5;241m.\u001b[39mwith_traceback(\u001b[38;5;28;01mNone\u001b[39;00m)\n",
      "\u001b[0;31mTypingError\u001b[0m: Failed in nopython mode pipeline (step: nopython frontend)\nCannot infer the type of variable 'all_list', have imprecise type: list(undefined)<iv=None>. \n\nFor Numba to be able to compile a list, the list must have a known and\nprecise type that can be inferred from the other variables. Whilst sometimes\nthe type of empty lists can be inferred, this is not always the case, see this\ndocumentation for help:\n\nhttps://numba.readthedocs.io/en/stable/user/troubleshoot.html#my-code-has-an-untyped-list-problem\n\n\nFile \"../../../../tmp/ipykernel_1751402/3845865263.py\", line 37:\n<source missing, REPL/exec in use?>\n\nDuring: Pass nopython_type_inference"
     ]
    }
   ],
   "source": [
    "test = vel_loop(St0, u0, v0, eta, order, max_array_size, 0, 10)"
   ]
  },
  {
   "cell_type": "code",
   "execution_count": 6,
   "metadata": {},
   "outputs": [],
   "source": [
    "ul = [1, 2, 3, 4, 5]"
   ]
  },
  {
   "cell_type": "code",
   "execution_count": 7,
   "metadata": {},
   "outputs": [],
   "source": [
    "test = np.array([zl, vl, ul])"
   ]
  },
  {
   "cell_type": "code",
   "execution_count": 9,
   "metadata": {},
   "outputs": [],
   "source": [
    "test2 = []"
   ]
  },
  {
   "cell_type": "code",
   "execution_count": 10,
   "metadata": {},
   "outputs": [],
   "source": [
    "test3 = np.reshape(test, (1,3,test.shape[1]))"
   ]
  },
  {
   "cell_type": "code",
   "execution_count": 22,
   "metadata": {},
   "outputs": [],
   "source": [
    "test_list = []"
   ]
  },
  {
   "cell_type": "code",
   "execution_count": 26,
   "metadata": {},
   "outputs": [],
   "source": [
    "test_list += [test]"
   ]
  },
  {
   "cell_type": "code",
   "execution_count": 27,
   "metadata": {},
   "outputs": [
    {
     "data": {
      "text/plain": [
       "[array([[1, 2, 3, 4, 5],\n",
       "        [1, 2, 3, 4, 5],\n",
       "        [1, 2, 3, 4, 5]]),\n",
       " array([[1, 2, 3, 4, 5],\n",
       "        [1, 2, 3, 4, 5],\n",
       "        [1, 2, 3, 4, 5]])]"
      ]
     },
     "execution_count": 27,
     "metadata": {},
     "output_type": "execute_result"
    }
   ],
   "source": [
    "test_list"
   ]
  },
  {
   "cell_type": "code",
   "execution_count": null,
   "metadata": {},
   "outputs": [
    {
     "ename": "",
     "evalue": "",
     "output_type": "error",
     "traceback": [
      "\u001b[1;31mFailed to start the Kernel. \n",
      "\u001b[1;31mzmq.error.ZMQError: Address already in use (addr='tcp://127.0.0.1:9002'). \n",
      "\u001b[1;31mView Jupyter <a href='command:jupyter.viewOutput'>log</a> for further details."
     ]
    }
   ],
   "source": [
    "zl, vl, ul = vel_loop(St0, u0, 1e-3, eta, order, max_array_size, 0.005)\n",
    "zl2, vl2, ul2 = vel_loop(St0, u0, 1e-3, eta, order, max_array_size, 0)\n",
    "zl3, vl3, ul3 = vel_loop(St0, u0, 2e-3, eta, order, max_array_size, 0.005)"
   ]
  },
  {
   "cell_type": "code",
   "execution_count": 46,
   "metadata": {},
   "outputs": [
    {
     "data": {
      "text/plain": [
       "(0.0049, 0.0056)"
      ]
     },
     "execution_count": 46,
     "metadata": {},
     "output_type": "execute_result"
    },
    {
     "data": {
      "image/png": "[encoded data removed]",
      "text/plain": [
       "<Figure size 500x200 with 1 Axes>"
      ]
     },
     "metadata": {},
     "output_type": "display_data"
    }
   ],
   "source": [
    "plt.plot(zl, vl)\n",
    "# plt.plot(zl2, vl2, c='C3')\n",
    "plt.plot(zl3, vl3, c='C4')\n",
    "plt.plot(zl, ul, c='gray', ls='--', lw=0.8)\n",
    "plt.axvline(1/Stb, c='C3',ls=':', lw=0.8)\n",
    "plt.ylim(0, 2e-3)\n",
    "plt.xlim(0.0049, 0.0056)"
   ]
  }
 ],
 "metadata": {
  "kernelspec": {
   "display_name": "pyspedas",
   "language": "python",
   "name": "pyspedas"
  },
  "language_info": {
   "codemirror_mode": {
    "name": "ipython",
    "version": 3
   },
   "file_extension": ".py",
   "mimetype": "text/x-python",
   "name": "python",
   "nbconvert_exporter": "python",
   "pygments_lexer": "ipython3",
   "version": "3.12.7"
  }
 },
 "nbformat": 4,
 "nbformat_minor": 2
}
