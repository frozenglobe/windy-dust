{
 "cells": [
  {
   "cell_type": "code",
   "execution_count": 3,
   "id": "985718ef-3a2c-435e-89ce-14305ade15a8",
   "metadata": {},
   "outputs": [],
   "source": [
    "import numpy as np\n",
    "import scipy.constants as sc\n",
    "import pandas as pd\n",
    "import re\n",
    "import matplotlib.pyplot as plt\n",
    "from matplotlib import rcParams\n",
    "import math\n",
    "from scipy.optimize import newton"
   ]
  },
  {
   "cell_type": "code",
   "execution_count": 95,
   "id": "3e91b496-b51d-4857-941c-e1906c0b3c69",
   "metadata": {},
   "outputs": [
    {
     "name": "stdout",
     "output_type": "stream",
     "text": [
      "alpha: 0.09\n",
      "H/R: 0.3\n",
      "Mid-plane Stokes: 0.0025\n"
     ]
    }
   ],
   "source": [
    "c_s = 4 # in km/s\n",
    "R = 4 # in au\n",
    "M = 0.8 # in solar masses\n",
    "\n",
    "multH = 1\n",
    "b = 1e9\n",
    "v0 = 0\n",
    "\n",
    "a = 1.5e11 / (sc.G * 2e30) * 1e6 * c_s**2 * R / M\n",
    "print('alpha:', round(a,3))\n",
    "H_R = np.sqrt(a)\n",
    "print('H/R:', round(H_R,3))\n",
    "St0 = (sc.G * 2e30 / (1.5e11)**3)**0.5 * 1e-3 * 1/c_s * M**1/2 * 1/(R**1.5) * b\n",
    "print('Mid-plane Stokes:', round(St0, -int(np.log10(St0))+2))"
   ]
  },
  {
   "cell_type": "code",
   "execution_count": 101,
   "id": "f2414112-5869-49dd-81e9-592158381db4",
   "metadata": {},
   "outputs": [
    {
     "name": "stdout",
     "output_type": "stream",
     "text": [
      "Maximum plausible mid-plane gas velocity: 9e-06\n",
      "Step size: 2e-09\n",
      "CPU times: user 36.7 s, sys: 14.2 s, total: 50.9 s\n",
      "Wall time: 51.5 s\n"
     ]
    }
   ],
   "source": [
    "%%time\n",
    "# root-finding for upper bound for u0\n",
    "k0 = 1/a\n",
    "f0 = lambda u0: 0.5 * ( u0**2 - 1 ) - np.log( u0 ) - k0\n",
    "f0der = lambda u0: u0 - 1/u0\n",
    "u0_est = np.exp(-k0-1/2)\n",
    "u0 = newton(f0, u0_est, fprime=f0der, maxiter=200)\n",
    "print('Maximum plausible mid-plane gas velocity:', round(u0,-int(np.log10(u0))+2))\n",
    "\n",
    "# step size and z list generation\n",
    "dz = 10**( np.log10(St0 * u0) - 1 )\n",
    "print('Step size:', round(dz,-int(np.log10(dz))+1))\n",
    "zl = np.arange(0, multH, dz)\n",
    "\n",
    "# root-finding for u\n",
    "kl = 1/a * ( 1 - ( 1 + a*zl**2 )**(-0.5) )\n",
    "f = lambda u, kl: 0.5 * ( u**2 - u0**2 ) - np.log( u/u0 ) + kl\n",
    "fder = lambda u, kl: u - 1/u\n",
    "ug_he = u0 * np.exp(kl)\n",
    "ul = newton(f, ug_he, fprime=fder, args=(kl, ), maxiter=1000)"
   ]
  },
  {
   "cell_type": "code",
   "execution_count": 96,
   "id": "f5b703cb-a5ab-421d-acac-a8bbce33d055",
   "metadata": {},
   "outputs": [
    {
     "name": "stdout",
     "output_type": "stream",
     "text": [
      "CPU times: user 2.94 s, sys: 232 ms, total: 3.17 s\n",
      "Wall time: 3.19 s\n"
     ]
    }
   ],
   "source": [
    "%%time\n",
    "def vel_gen(dz, zl, ul, a, St0, v0):\n",
    "    fl = []\n",
    "    fl.append( v0**2/2 )\n",
    "    zero_list = []\n",
    "    for i in range(1,len(zl)):\n",
    "        v_loc = (2*fl[-1])**0.5\n",
    "        delta_v = v_loc - ul[i-1]\n",
    "        f_app = fl[-1] + dz * ( -delta_v / St0 * np.exp( -1/a * (1 - ( 1 + a*zl[i-1]**2 )**(-0.5) ) ) - zl[i-1] / (1 + a*zl[i-1]**2)**1.5 )\n",
    "        # print((2*f_app)**0.5)\n",
    "        if f_app > 0:\n",
    "            fl.append(f_app)\n",
    "        else:\n",
    "            zero_list.append(round(zl[i],4))\n",
    "            break\n",
    "    \n",
    "    fl = np.array(fl)\n",
    "    vl = ( 2*fl )**0.5\n",
    "    return vl\n",
    "\n"
   ]
  },
  {
   "cell_type": "code",
   "execution_count": 102,
   "id": "a639fcb3-552a-43b5-b595-715ad7d18108",
   "metadata": {},
   "outputs": [
    {
     "name": "stdout",
     "output_type": "stream",
     "text": [
      "CPU times: user 36 s, sys: 2.01 s, total: 38.1 s\n",
      "Wall time: 38.4 s\n"
     ]
    }
   ],
   "source": [
    "%%time\n",
    "vl_nhe = vel_gen(dz, zl, ul, a, St0, v0)\n",
    "uhe = u0 * np.exp( 1/a * (1 - ( 1 + a*zl**2 )**(-0.5) ) )\n",
    "vl_he = vel_gen(dz, zl, uhe, a, St0, v0)"
   ]
  },
  {
   "cell_type": "code",
   "execution_count": 104,
   "id": "136246a7-ca2c-49b1-b3c4-bb4e20ae58c1",
   "metadata": {},
   "outputs": [
    {
     "data": {
      "text/plain": [
       "<matplotlib.legend.Legend at 0x7f4a6d1cb4a0>"
      ]
     },
     "execution_count": 104,
     "metadata": {},
     "output_type": "execute_result"
    },
    {
     "data": {
      "image/png": "[encoded data removed]",
      "text/plain": [
       "<Figure size 500x200 with 1 Axes>"
      ]
     },
     "metadata": {},
     "output_type": "display_data"
    }
   ],
   "source": [
    "rcParams[\"figure.figsize\"] = (5,2)\n",
    "plt.plot(zl[:len(vl_nhe)], vl_nhe, label='dust nhe')\n",
    "plt.plot(zl[:len(vl_he)], vl_he, label='dust he')\n",
    "plt.plot(zl[:len(vl)], ul[:len(vl)], lw=0.8, ls='--', label='gas nhe')\n",
    "plt.plot(zl[:len(vl)], uhe[:len(vl)], lw=0.8, ls='--', label='gas he')\n",
    "\n",
    "# plt.xlim(0,0.0000001)\n",
    "# plt.ylim(0,0.0000005)\n",
    "# plt.xlim(0.000344,0.000346)\n",
    "plt.legend()"
   ]
  }
 ],
 "metadata": {
  "kernelspec": {
   "display_name": "pyspedas",
   "language": "python",
   "name": "pyspedas"
  },
  "language_info": {
   "codemirror_mode": {
    "name": "ipython",
    "version": 3
   },
   "file_extension": ".py",
   "mimetype": "text/x-python",
   "name": "python",
   "nbconvert_exporter": "python",
   "pygments_lexer": "ipython3",
   "version": "3.12.7"
  }
 },
 "nbformat": 4,
 "nbformat_minor": 5
}
