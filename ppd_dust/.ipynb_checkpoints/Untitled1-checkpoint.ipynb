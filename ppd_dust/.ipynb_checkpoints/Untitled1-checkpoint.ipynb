{
 "cells": [
  {
   "cell_type": "code",
   "execution_count": 1,
   "id": "33a754e4-ff26-4225-9fb6-3d939ccb0a48",
   "metadata": {},
   "outputs": [],
   "source": [
    "import numpy as np\n",
    "import matplotlib.pyplot as plt\n",
    "from matplotlib import rcParams\n",
    "import pandas as pd\n",
    "import math\n",
    "import scipy.constants as sc\n",
    "from scipy import integrate as itg"
   ]
  },
  {
   "cell_type": "code",
   "execution_count": 2,
   "id": "49e9887c-d74d-42f5-a41b-8665cbaefdbf",
   "metadata": {},
   "outputs": [],
   "source": [
    "def vel_gen(St0, u0, v0, multH):\n",
    "    dz = 10**( np.log10(St0 * u0) - 1 )\n",
    "    z_list = np.arange(0, multH, dz)\n",
    "    f_list = []\n",
    "    f_list.append(v0**2/2)\n",
    "    f_gas = np.exp( 1/eta * (1 - ( 1 + eta*z_list**2 )**(-0.5) ) )\n",
    "    u = u0 * f_gas\n",
    "    zero_list = []\n",
    "\n",
    "    for i in range(1,len(z_list)):\n",
    "        v_loc = (2*f_list[-1])**0.5\n",
    "        delta_v = v_loc - u[i-1]\n",
    "        f_app = f_list[-1] + dz * ( -delta_v / St0 * np.exp( -1/eta * (1 - ( 1 + eta*z_list[i-1]**2 )**(-0.5) ) ) - z_list[i-1] / (1 + eta*z_list[i-1]**2)**1.5 )\n",
    "        if f_app > 0:\n",
    "            f_list.append(f_app)\n",
    "        else:\n",
    "            zero_list.append(round(z_list[i],4))\n",
    "            break\n",
    "    f_list = np.array(f_list)\n",
    "    v_list = ( 2*f_list )**0.5\n",
    "    \n",
    "    return z_list, v_list, u, zero_list"
   ]
  },
  {
   "cell_type": "code",
   "execution_count": 5,
   "id": "e86300d7-7216-47a7-b784-cecf732f8019",
   "metadata": {},
   "outputs": [],
   "source": [
    "R = 10 # in au\n",
    "a = 1e-4 # cm assuming density of grain is 4 g/cm3\n",
    "v0 = 0.\n",
    "\n",
    "eta = 4e-4 * R**(0.5)\n",
    "zl, vl, u = vel_gen(2e-5, 4e-7, 0., 2e-6)[:-1]"
   ]
  },
  {
   "cell_type": "code",
   "execution_count": 11,
   "id": "73087a28-8d89-45c8-89d5-f7fed6a29146",
   "metadata": {},
   "outputs": [
    {
     "data": {
      "text/plain": [
       "<matplotlib.legend.Legend at 0x7f70230ddc40>"
      ]
     },
     "execution_count": 11,
     "metadata": {},
     "output_type": "execute_result"
    },
    {
     "name": "stderr",
     "output_type": "stream",
     "text": [
      "/home/jhyl3/.conda/envs/pyspedas/lib/python3.12/site-packages/IPython/core/events.py:82: UserWarning: Creating legend with loc=\"best\" can be slow with large amounts of data.\n",
      "  func(*args, **kwargs)\n",
      "/home/jhyl3/.conda/envs/pyspedas/lib/python3.12/site-packages/IPython/core/pylabtools.py:170: UserWarning: Creating legend with loc=\"best\" can be slow with large amounts of data.\n",
      "  fig.canvas.print_figure(bytes_io, **kw)\n"
     ]
    },
    {
     "data": {
      "image/png": "[encoded data removed]",
      "text/plain": [
       "<Figure size 500x200 with 1 Axes>"
      ]
     },
     "metadata": {},
     "output_type": "display_data"
    }
   ],
   "source": [
    "rcParams[\"figure.figsize\"] = (5,2)\n",
    "plt.plot(zl[:len(vl)], vl, label='dust', alpha=0.2, c='C1')\n",
    "plt.scatter(zl[:len(vl)], vl, s=10, marker='x', c='C1')\n",
    "plt.plot(zl, u, label='gas', lw=0.8, c='gray', ls='--')\n",
    "# plt.xlim(0, zl[len(vl)-1]*1.1)\n",
    "plt.xlim(0,1e-9)\n",
    "plt.ylim(3e-7, 5e-7)\n",
    "plt.xlabel('$z$ / $H$')\n",
    "plt.ylabel('$v$ / $c_s$')\n",
    "plt.legend()"
   ]
  }
 ],
 "metadata": {
  "kernelspec": {
   "display_name": "pyspedas",
   "language": "python",
   "name": "pyspedas"
  },
  "language_info": {
   "codemirror_mode": {
    "name": "ipython",
    "version": 3
   },
   "file_extension": ".py",
   "mimetype": "text/x-python",
   "name": "python",
   "nbconvert_exporter": "python",
   "pygments_lexer": "ipython3",
   "version": "3.12.7"
  }
 },
 "nbformat": 4,
 "nbformat_minor": 5
}
