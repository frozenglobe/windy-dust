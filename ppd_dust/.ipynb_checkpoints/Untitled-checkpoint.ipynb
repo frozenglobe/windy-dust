{
 "cells": [
  {
   "cell_type": "code",
   "execution_count": 1,
   "id": "5b824da0-a1ef-47d8-a1e9-8a24080f1492",
   "metadata": {},
   "outputs": [],
   "source": [
    "import numpy as np\n",
    "import scipy.constants as sc\n",
    "import pandas as pd\n",
    "import re\n",
    "import matplotlib.pyplot as plt\n",
    "from matplotlib import rcParams\n",
    "import math\n",
    "from scipy.optimize import newton\n",
    "from functools import reduce"
   ]
  },
  {
   "cell_type": "code",
   "execution_count": 2,
   "id": "6750b851-ec46-4fed-92b7-1fadf63d82b2",
   "metadata": {},
   "outputs": [],
   "source": [
    "def gas_vel_rf(eta, u0, zl):\n",
    "    kl = 1/eta * ( 1 - ( 1 + eta*zl**2 )**(-0.5) )\n",
    "    f = lambda u, kl: 0.5 * ( u**2 - u0**2 ) - np.log( u/u0 ) + kl\n",
    "    fder = lambda u, kl: u - 1/u\n",
    "    ug_he = u0 * np.exp(kl)\n",
    "    ul = newton(f, ug_he, fprime=fder, args=(kl, ), maxiter=1000)\n",
    "    return ul\n",
    "\n",
    "def dust_vel_gen(dz, zl, ul, v0, St_base, eta):\n",
    "    fl = []\n",
    "    zero_pos = []\n",
    "    fl.append(v0**2/2)\n",
    "    for i in range(1,len(zl)):\n",
    "        v_loc = np.sqrt(2*fl[-1])\n",
    "        delta_v = v_loc - ul[i-1]\n",
    "        St = St_base * ul[i-1]\n",
    "        f_append = fl[-1] + dz * ( - (delta_v / St) - (zl[i-1] / (1 + eta*zl[i-1]**2)**1.5) )\n",
    "        if f_append > 0:\n",
    "            fl.append(f_append)\n",
    "        else:\n",
    "            zero_pos.append(zl[i])\n",
    "            break\n",
    "    fl = np.array(fl)\n",
    "    vl = np.sqrt(2*fl)\n",
    "    return zl, vl, ul, zero_pos\n",
    "\n",
    "def factors(n):\n",
    "    return list(set(reduce(list.__add__,([i, n//i] for i in range(1, int(n**0.5) + 1) if not n % i))))\n",
    "\n",
    "def vel_loop(zl_m1, vl_m1):\n",
    "    zl_loop = dz + zl + zl_m1\n",
    "    ul_loop = gas_vel_rf(eta, u0, zl_loop)\n",
    "    zl1, vl1, ul1, zp1 = dust_vel_gen(dz, zl_loop, ul_loop, vl_m1, St_base, eta)\n",
    "    zl1 = zl1[:len(vl1)]\n",
    "    ul1 = ul1[:len(vl1)]\n",
    "    \n",
    "    return zl1[-1], vl1[-1], zp1, zl1[::spc], vl1[::spc], ul1[::spc]"
   ]
  },
  {
   "cell_type": "code",
   "execution_count": 42,
   "id": "caa29ff5-2f6f-470f-b5ad-c8c79f586c48",
   "metadata": {},
   "outputs": [
    {
     "name": "stdout",
     "output_type": "stream",
     "text": [
      "Mid-plane sound speed: 0.34 km/s\n",
      "Mid-plane Stokes: 1.9e-05\n",
      "eta: 0.0013\n",
      "H/R: 0.036\n",
      "u_0/c_s: 3.9e-07\n",
      "Step size: 7.4e-13\n",
      "Maximum z/H: 7.4e-06\n"
     ]
    }
   ],
   "source": [
    "R = 10 # in au\n",
    "a = 1e-4 # cm assuming density of grain is 4 g/cm3\n",
    "v0 = 0.\n",
    "\n",
    "array_lim = 1e7\n",
    "\n",
    "c_s = 0.6 * R**(-0.25) # in km/s\n",
    "St0 = 6e-3 * R**(1.5) * a\n",
    "eta = 4e-4 * R**(0.5)\n",
    "H_R = np.sqrt(eta)\n",
    "s_dot = 8e-13 * R**(-1.18) # in g/cm2/s\n",
    "u0 = 5.9e-9 * R**(1.82) # in /c_s\n",
    "St_base = 9.95e5 * a * R**(-0.32)\n",
    "\n",
    "dz = 10**( np.log10(St0 * u0) - 1 )\n",
    "multH = dz * 1e7\n",
    "zl = np.arange(0, multH, dz)\n",
    "\n",
    "print('Mid-plane sound speed:', round(c_s,2), 'km/s')\n",
    "print('Mid-plane Stokes:', round(St0, int(-np.log10(St0)+2)))\n",
    "print('eta:', round(eta, int(-np.log10(eta)+2)))\n",
    "print('H/R:', round(H_R,int(-np.log10(H_R)+2)))\n",
    "print('u_0/c_s:', round(u0, int(-np.log10(u0)+3)))\n",
    "print('Step size:', round(dz, int(-np.log10(dz)+3)))\n",
    "print('Maximum z/H:', round(multH, int(-np.log10(multH)+3)))"
   ]
  },
  {
   "cell_type": "code",
   "execution_count": 4,
   "id": "97c3b864-a9fd-42bf-87d6-079e5e6d2f49",
   "metadata": {},
   "outputs": [],
   "source": [
    "%%time\n",
    "ul = gas_vel_rf(eta, u0, zl)\n",
    "zl, vl, ul, zero_pos = dust_vel_gen(dz, zl, ul, v0, St_base, eta)"
   ]
  },
  {
   "cell_type": "code",
   "execution_count": 5,
   "id": "154562cb-8efe-42bc-9a49-ed721d87ef94",
   "metadata": {},
   "outputs": [
    {
     "name": "stdout",
     "output_type": "stream",
     "text": [
      "Zero velocity not reached in domain.\n"
     ]
    },
    {
     "data": {
      "text/plain": [
       "Text(0, 0.5, '$v$ / $c_s$')"
      ]
     },
     "execution_count": 5,
     "metadata": {},
     "output_type": "execute_result"
    },
    {
     "data": {
      "image/png": "[encoded data removed]",
      "text/plain": [
       "<Figure size 500x300 with 1 Axes>"
      ]
     },
     "metadata": {},
     "output_type": "display_data"
    }
   ],
   "source": [
    "spc = int(1e2) # spacing of scatter\n",
    "rcParams[\"figure.figsize\"] = (5,3)\n",
    "\n",
    "if len(zero_pos)>0:\n",
    "    print('z/H of zero velocity:', round(zero_pos[0], int(-np.log10(zero_pos[0])+2)))\n",
    "    plt.xlim(0, zero_pos[0]*1.05)\n",
    "else:\n",
    "    print('Zero velocity not reached in domain.')\n",
    "    plt.xlim(0, zl[-1]*1.05)\n",
    "\n",
    "# scatter superimposed on line\n",
    "# plt.plot(zl[:len(vl)][::spc], vl[::spc],label='dust',c='C4',alpha=0.2)\n",
    "# plt.scatter(zl[:len(vl)][::spc], vl[::spc],label='dust',c='C4',s=10,marker='x')\n",
    "\n",
    "plt.plot(zl[:len(vl)][::spc], vl[::spc],label='dust',c='C4')\n",
    "plt.plot(zl[:len(vl)][::spc], ul[:len(vl)][::spc],label='gas',c='C3')\n",
    "\n",
    "plt.legend()\n",
    "plt.ylim(0)\n",
    "plt.xlabel('$z$ / $H$')\n",
    "plt.ylabel('$v$ / $c_s$')"
   ]
  },
  {
   "cell_type": "code",
   "execution_count": 43,
   "id": "035da338-3186-47a3-b49d-f76290143af8",
   "metadata": {},
   "outputs": [
    {
     "name": "stdout",
     "output_type": "stream",
     "text": [
      "270.41248153821317\n",
      "CPU times: user 38.5 s, sys: 522 ms, total: 39 s\n",
      "Wall time: 39.2 s\n"
     ]
    }
   ],
   "source": [
    "%%time\n",
    "multH_max = 0.002\n",
    "print(multH_max / multH)\n",
    "arg = np.argmin(np.abs([i - multH_max / multH for i in factors(array_lim)]))\n",
    "spc = int(factors(array_lim)[arg])\n",
    "\n",
    "\n",
    "ul = gas_vel_rf(eta, u0, zl)\n",
    "zl, vl, ul, zero_pos = dust_vel_gen(dz, zl, ul, v0, St_base, eta)\n",
    "\n",
    "z_store = zl[::spc]\n",
    "v_store = vl[::spc]\n",
    "u_store = ul[::spc]\n",
    "zl_m1 = zl[-1]\n",
    "vl_m1 = vl[-1]"
   ]
  },
  {
   "cell_type": "code",
   "execution_count": 44,
   "id": "d0f066af-1a03-440f-821e-9b1f6b723ec4",
   "metadata": {},
   "outputs": [
    {
     "name": "stdout",
     "output_type": "stream",
     "text": [
      "CPU times: user 2h 52min 1s, sys: 2min 24s, total: 2h 54min 26s\n",
      "Wall time: 2h 55min 23s\n"
     ]
    }
   ],
   "source": [
    "%%time\n",
    "while (zl_m1 < multH_max and len(zero_pos) == 0):\n",
    "    zl_m1, vl_m1, zp1, zl_append, vl_append, ul_append = vel_loop(zl_m1, vl_m1)\n",
    "    z_store = np.append(z_store, zl_append)\n",
    "    v_store = np.append(v_store, vl_append)\n",
    "    u_store = np.append(u_store, ul_append)\n",
    "    zero_pos = zp1"
   ]
  },
  {
   "cell_type": "code",
   "execution_count": 98,
   "id": "040bdc29-54e2-42ad-9419-0c9fe3f3f772",
   "metadata": {},
   "outputs": [],
   "source": [
    "pd.DataFrame({'z': z_store, 'v': v_store, 'u': u_store}).to_pickle('./velocity_df/10_1e-4_2e-3.pkl')"
   ]
  },
  {
   "cell_type": "code",
   "execution_count": 109,
   "id": "a83ae0db-5427-434c-9b2f-11d8f21b00d0",
   "metadata": {},
   "outputs": [
    {
     "data": {
      "text/html": [
       "<div>\n",
       "<style scoped>\n",
       "    .dataframe tbody tr th:only-of-type {\n",
       "        vertical-align: middle;\n",
       "    }\n",
       "\n",
       "    .dataframe tbody tr th {\n",
       "        vertical-align: top;\n",
       "    }\n",
       "\n",
       "    .dataframe thead th {\n",
       "        text-align: right;\n",
       "    }\n",
       "</style>\n",
       "<table border=\"1\" class=\"dataframe\">\n",
       "  <thead>\n",
       "    <tr style=\"text-align: right;\">\n",
       "      <th></th>\n",
       "      <th>z</th>\n",
       "      <th>v</th>\n",
       "      <th>u</th>\n",
       "    </tr>\n",
       "  </thead>\n",
       "  <tbody>\n",
       "    <tr>\n",
       "      <th>0</th>\n",
       "      <td>0.000000e+00</td>\n",
       "      <td>0.000000e+00</td>\n",
       "      <td>3.898091e-07</td>\n",
       "    </tr>\n",
       "    <tr>\n",
       "      <th>1</th>\n",
       "      <td>1.849027e-10</td>\n",
       "      <td>3.898091e-07</td>\n",
       "      <td>3.898091e-07</td>\n",
       "    </tr>\n",
       "    <tr>\n",
       "      <th>2</th>\n",
       "      <td>3.698054e-10</td>\n",
       "      <td>3.898091e-07</td>\n",
       "      <td>3.898091e-07</td>\n",
       "    </tr>\n",
       "    <tr>\n",
       "      <th>3</th>\n",
       "      <td>5.547081e-10</td>\n",
       "      <td>3.898091e-07</td>\n",
       "      <td>3.898091e-07</td>\n",
       "    </tr>\n",
       "    <tr>\n",
       "      <th>4</th>\n",
       "      <td>7.396108e-10</td>\n",
       "      <td>3.898091e-07</td>\n",
       "      <td>3.898091e-07</td>\n",
       "    </tr>\n",
       "    <tr>\n",
       "      <th>...</th>\n",
       "      <td>...</td>\n",
       "      <td>...</td>\n",
       "      <td>...</td>\n",
       "    </tr>\n",
       "    <tr>\n",
       "      <th>10839995</th>\n",
       "      <td>2.004344e-03</td>\n",
       "      <td>3.526009e-07</td>\n",
       "      <td>3.898099e-07</td>\n",
       "    </tr>\n",
       "    <tr>\n",
       "      <th>10839996</th>\n",
       "      <td>2.004345e-03</td>\n",
       "      <td>3.526009e-07</td>\n",
       "      <td>3.898099e-07</td>\n",
       "    </tr>\n",
       "    <tr>\n",
       "      <th>10839997</th>\n",
       "      <td>2.004345e-03</td>\n",
       "      <td>3.526009e-07</td>\n",
       "      <td>3.898099e-07</td>\n",
       "    </tr>\n",
       "    <tr>\n",
       "      <th>10839998</th>\n",
       "      <td>2.004345e-03</td>\n",
       "      <td>3.526009e-07</td>\n",
       "      <td>3.898099e-07</td>\n",
       "    </tr>\n",
       "    <tr>\n",
       "      <th>10839999</th>\n",
       "      <td>2.004345e-03</td>\n",
       "      <td>3.526009e-07</td>\n",
       "      <td>3.898099e-07</td>\n",
       "    </tr>\n",
       "  </tbody>\n",
       "</table>\n",
       "<p>10840000 rows × 3 columns</p>\n",
       "</div>"
      ],
      "text/plain": [
       "                     z             v             u\n",
       "0         0.000000e+00  0.000000e+00  3.898091e-07\n",
       "1         1.849027e-10  3.898091e-07  3.898091e-07\n",
       "2         3.698054e-10  3.898091e-07  3.898091e-07\n",
       "3         5.547081e-10  3.898091e-07  3.898091e-07\n",
       "4         7.396108e-10  3.898091e-07  3.898091e-07\n",
       "...                ...           ...           ...\n",
       "10839995  2.004344e-03  3.526009e-07  3.898099e-07\n",
       "10839996  2.004345e-03  3.526009e-07  3.898099e-07\n",
       "10839997  2.004345e-03  3.526009e-07  3.898099e-07\n",
       "10839998  2.004345e-03  3.526009e-07  3.898099e-07\n",
       "10839999  2.004345e-03  3.526009e-07  3.898099e-07\n",
       "\n",
       "[10840000 rows x 3 columns]"
      ]
     },
     "execution_count": 109,
     "metadata": {},
     "output_type": "execute_result"
    }
   ],
   "source": [
    "# os.remove([i for i in os.listdir() if \".pkl\" in i][0])\n",
    "pd.read_pickle(os.path.join('velocity_df',[i for i in os.listdir('velocity_df')][0]))"
   ]
  },
  {
   "cell_type": "code",
   "execution_count": 111,
   "id": "789cfd4d-9838-4c8a-b760-82b05ba20830",
   "metadata": {},
   "outputs": [
    {
     "data": {
      "image/png": "[encoded data removed]",
      "text/plain": [
       "<Figure size 500x200 with 2 Axes>"
      ]
     },
     "metadata": {},
     "output_type": "display_data"
    }
   ],
   "source": [
    "sampling = int(1e2)\n",
    "rcParams[\"figure.figsize\"] = (5,2)\n",
    "\n",
    "fig, ax1 = plt.subplots()\n",
    "left, bottom, width, height = [0.6, 0.35, 0.2, 0.3]\n",
    "ax2 = fig.add_axes([left, bottom, width, height])\n",
    "ax1.plot(z_store[::sampling], v_store[::sampling], label='dust', c='C3')\n",
    "ax1.plot(z_store[::sampling], u_store[::sampling], label='gas', c='C7', lw=0.8, ls='--')\n",
    "ax2.plot(zl[:int(1e3)], vl[:int(1e3)], c='C3')\n",
    "ax2.plot(zl[:int(1e3)], ul[:int(1e3)], c='C7', lw=0.8, ls='--')\n",
    "ax2.set_xlim(0,4e-11)\n",
    "ax2.set_ylim(0,4.5e-7)\n",
    "ax2.locator_params(axis='y', nbins=3)\n",
    "\n",
    "\n",
    "ax1.set_ylim(0)\n",
    "ax1.set_xlim(0, 0.002)\n",
    "ax1.locator_params(axis='x', nbins=4)\n",
    "ax1.set_xlabel('$z$ / $H$')\n",
    "ax1.set_ylabel('$v$ / $c_s$')\n",
    "ax1.legend()\n",
    "\n",
    "ax1.set_title('$\\\\mathrm{St}_0=$'+str(round(St0, int(-np.log10(St0)+1))) + ', $H/R=$'+ str(round(H_R, int(-np.log10(H_R)+1))) + '$, u_0=$' + str(round(u0, int(-np.log10(u0)+1))), fontsize=10)\n",
    "plt.savefig('./graphics/dust_vel_loop_ex.png', dpi=300, bbox_inches='tight')"
   ]
  },
  {
   "cell_type": "code",
   "execution_count": null,
   "id": "20e168fe-07b9-48a0-8c4e-986757a77a15",
   "metadata": {},
   "outputs": [],
   "source": []
  }
 ],
 "metadata": {
  "kernelspec": {
   "display_name": "pyspedas",
   "language": "python",
   "name": "pyspedas"
  },
  "language_info": {
   "codemirror_mode": {
    "name": "ipython",
    "version": 3
   },
   "file_extension": ".py",
   "mimetype": "text/x-python",
   "name": "python",
   "nbconvert_exporter": "python",
   "pygments_lexer": "ipython3",
   "version": "3.12.7"
  }
 },
 "nbformat": 4,
 "nbformat_minor": 5
}
