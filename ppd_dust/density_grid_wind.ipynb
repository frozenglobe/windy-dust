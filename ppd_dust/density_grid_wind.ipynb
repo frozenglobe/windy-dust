{
 "cells": [
  {
   "cell_type": "code",
   "execution_count": 87,
   "metadata": {},
   "outputs": [],
   "source": [
    "from astropy.io import fits\n",
    "import numpy as np\n",
    "import matplotlib.pyplot as plt\n",
    "from matplotlib import rcParams, cm, ticker\n",
    "import os\n",
    "import scipy.constants as sc\n",
    "from scipy.interpolate import RegularGridInterpolator\n",
    "rcParams['figure.figsize'] = (5,2)"
   ]
  },
  {
   "cell_type": "code",
   "execution_count": 151,
   "metadata": {},
   "outputs": [],
   "source": [
    "direc = '/data/jhyl3/vel_fits/3-5cm_radial'\n",
    "\n",
    "P = 300\n",
    "r_in = 10 # disc inner radius in au\n",
    "r_out = 100 # disc outer radius in au\n",
    "R_grid = np.logspace(np.log10(r_in), np.log10(r_out), P+1)\n",
    "N = 400\n",
    "z = np.linspace(0,10,N+1)\n",
    "\n",
    "R = np.arange(10,110,10)\n",
    "c_s = 1.5 * R**(-0.25) # in km/s\n",
    "Omega = (np.sqrt(sc.G * 2e30) * 1.5e11**(-1.5)) * R**(-1.5)\n",
    "sdot = 2e-12 * (R/10)**(-1.5) # in g/cm2/s\n",
    "sd = 30 * (1/R) # in g/cm2\n",
    "rhos = 3.5 # in g/cm3\n",
    "H = c_s / (1.5e8) / Omega # in au\n",
    "H_R = c_s / Omega / (1.5e8) / R\n",
    "u0 = np.sqrt(2*np.pi) / Omega * sdot / sd\n",
    "rho0 = sd / np.sqrt(2*np.pi) / (c_s * 1e5) * Omega\n",
    "scale = rho0 / rho0[-1]"
   ]
  },
  {
   "cell_type": "code",
   "execution_count": 152,
   "metadata": {},
   "outputs": [],
   "source": [
    "def lin_intp(data, z):\n",
    "    zp = data[0][~np.isnan(data[1])]\n",
    "    fp = data[1][~np.isnan(data[1])]\n",
    "    z_trun = z[z < np.max(zp)]\n",
    "    return np.interp(z_trun, zp, fp)\n",
    "\n",
    "def grid_gen(direc):\n",
    "    contents = sorted(os.listdir(direc))\n",
    "\n",
    "    z_ls = np.linspace(0,10,int(1e6))\n",
    "    input_grid = np.empty((len(z_ls), len(contents)))\n",
    "    for i in range(len(contents)):\n",
    "        data = fits.open(os.path.join(direc, contents[i]))[0].data\n",
    "        output = 1/lin_intp(data, z_ls)\n",
    "        output[0] = output[1] # avoids infinities\n",
    "        input_grid[:,i] = np.array(list(output) + list(np.zeros(len(z_ls)-len(output))))\n",
    "\n",
    "    interp = RegularGridInterpolator((z_ls, R), input_grid)\n",
    "\n",
    "    R_trun = R_grid[R_grid > 10] # cannot interpolate outside of input region - need to generate 1 au results?\n",
    "    output_grid = np.empty((len(z), len(R_trun)))\n",
    "\n",
    "    for i in range(len(R_trun)):\n",
    "        for j in range(len(z)):\n",
    "            output_grid[j, i] = float(interp((z[j], R_trun[i])))\n",
    "    \n",
    "    return input_grid, output_grid"
   ]
  },
  {
   "cell_type": "code",
   "execution_count": 164,
   "metadata": {},
   "outputs": [
    {
     "name": "stderr",
     "output_type": "stream",
     "text": [
      "/tmp/ipykernel_744065/2184984554.py:14: RuntimeWarning: divide by zero encountered in divide\n",
      "  output = 1/lin_intp(data, z_ls)\n"
     ]
    }
   ],
   "source": [
    "direc = '/data/jhyl3/vel_fits/3-6cm_radial'\n",
    "test = grid_gen(direc)[1][:-1]"
   ]
  },
  {
   "cell_type": "code",
   "execution_count": 168,
   "metadata": {},
   "outputs": [],
   "source": [
    "direc_list = [os.path.join('/data/jhyl3/vel_fits', s) for s in os.listdir('/data/jhyl3/vel_fits') if ('radial' in s and '3-' in s)]"
   ]
  },
  {
   "cell_type": "code",
   "execution_count": 169,
   "metadata": {},
   "outputs": [
    {
     "data": {
      "text/plain": [
       "['/data/jhyl3/vel_fits/3-4cm_radial',\n",
       " '/data/jhyl3/vel_fits/3-3cm_radial',\n",
       " '/data/jhyl3/vel_fits/3-2cm_radial',\n",
       " '/data/jhyl3/vel_fits/3-5cm_radial',\n",
       " '/data/jhyl3/vel_fits/3-6cm_radial']"
      ]
     },
     "execution_count": 169,
     "metadata": {},
     "output_type": "execute_result"
    }
   ],
   "source": [
    "direc_list"
   ]
  },
  {
   "cell_type": "code",
   "execution_count": 170,
   "metadata": {},
   "outputs": [
    {
     "name": "stdout",
     "output_type": "stream",
     "text": [
      "/data/jhyl3/vel_fits/3-3cm_radial\n"
     ]
    },
    {
     "name": "stderr",
     "output_type": "stream",
     "text": [
      "/tmp/ipykernel_744065/2184984554.py:14: RuntimeWarning: divide by zero encountered in divide\n",
      "  output = 1/lin_intp(data, z_ls)\n"
     ]
    },
    {
     "name": "stdout",
     "output_type": "stream",
     "text": [
      "/data/jhyl3/vel_fits/3-2cm_radial\n",
      "/data/jhyl3/vel_fits/3-5cm_radial\n",
      "/data/jhyl3/vel_fits/3-6cm_radial\n"
     ]
    }
   ],
   "source": [
    "n_a = []\n",
    "for i in direc_list[1:]:\n",
    "    print(i)\n",
    "    n_a.append( np.reshape(grid_gen(i)[1][:-1], (1, N, P)) )\n",
    "\n",
    "n_a = np.array(n_a)"
   ]
  },
  {
   "cell_type": "code",
   "execution_count": 171,
   "metadata": {},
   "outputs": [
    {
     "data": {
      "text/plain": [
       "(4, 1, 400, 300)"
      ]
     },
     "execution_count": 171,
     "metadata": {},
     "output_type": "execute_result"
    }
   ],
   "source": [
    "n_a.shape"
   ]
  },
  {
   "cell_type": "markdown",
   "metadata": {},
   "source": [
    "#### Attempting 2D interpolation"
   ]
  },
  {
   "cell_type": "code",
   "execution_count": 66,
   "metadata": {},
   "outputs": [
    {
     "name": "stderr",
     "output_type": "stream",
     "text": [
      "/tmp/ipykernel_744065/3843447936.py:11: RuntimeWarning: divide by zero encountered in divide\n",
      "  test_output = 1/np.interp(z_trun, zp, fp)\n"
     ]
    }
   ],
   "source": [
    "direc = '/data/jhyl3/vel_fits/3-5cm_radial'\n",
    "contents = sorted(os.listdir(direc))\n",
    "\n",
    "data = fits.open(os.path.join(direc, contents[3]))[0].data\n",
    "zp = data[0][~np.isnan(data[1])]\n",
    "fp = data[1][~np.isnan(data[1])]\n",
    "\n",
    "z_ls = np.linspace(0,10,int(1e6))\n",
    "z_trun = z_ls[z_ls < np.max(zp)]\n",
    "\n",
    "test_output = 1/np.interp(z_trun, zp, fp)\n",
    "test_output[0] = test_output[1] # avoids infinities\n",
    "output = np.array(list(test_output) + list(np.zeros(len(z_ls) - len(test_output))))"
   ]
  },
  {
   "cell_type": "code",
   "execution_count": null,
   "metadata": {},
   "outputs": [
    {
     "name": "stderr",
     "output_type": "stream",
     "text": [
      "/tmp/ipykernel_744065/1780864524.py:5: RuntimeWarning: divide by zero encountered in divide\n",
      "  output = 1/lin_intp(data, z_ls)\n"
     ]
    }
   ],
   "source": [
    "z_ls = np.linspace(0,10,int(1e6))\n",
    "input_grid = np.empty((len(z_ls), len(contents)))\n",
    "for i in range(len(contents)):\n",
    "    data = fits.open(os.path.join(direc, contents[i]))[0].data\n",
    "    output = 1/lin_intp(data, z_ls)\n",
    "    output[0] = output[1] # avoids infinities\n",
    "    input_grid[:,i] = np.array(list(output) + list(np.zeros(len(z_ls)-len(output))))\n",
    "\n",
    "input_coord = [z_ls, R]\n",
    "interp = RegularGridInterpolator((z_ls, R), input_grid)\n",
    "\n",
    "R_trun = R_grid[R_grid > 10] # cannot interpolate outside of input region - need to generate 1 au results?\n",
    "output_grid = np.empty((len(z), len(R_trun)))\n",
    "\n",
    "for i in range(len(R_trun)):\n",
    "    for j in range(len(z)):\n",
    "        output_grid[j, i] = float(interp((z[j], R_trun[i])))"
   ]
  },
  {
   "cell_type": "code",
   "execution_count": null,
   "metadata": {},
   "outputs": [],
   "source": [
    "input_coord = [z_ls, R]\n",
    "interp = RegularGridInterpolator((z_ls, R), input_grid)\n",
    "\n",
    "R_trun = R_grid[R_grid > 10] # cannot interpolate outside of input region - need to generate 1 au results?\n",
    "output_grid = np.empty((len(z), len(R_trun)))\n",
    "\n",
    "for i in range(len(R_trun)):\n",
    "    for j in range(len(z)):\n",
    "        output_grid[j, i] = float(interp((z[j], R_trun[i])))"
   ]
  },
  {
   "cell_type": "code",
   "execution_count": null,
   "metadata": {},
   "outputs": [
    {
     "data": {
      "text/plain": [
       "<matplotlib.collections.PathCollection at 0x7fe0dca0e390>"
      ]
     },
     "execution_count": 37,
     "metadata": {},
     "output_type": "execute_result"
    },
    {
     "data": {
      "image/png": "[encoded data removed]",
      "text/plain": [
       "<Figure size 500x200 with 1 Axes>"
      ]
     },
     "metadata": {},
     "output_type": "display_data"
    }
   ],
   "source": [
    "plt.plot(zp[::int(1e4)], fp[::int(1e4)], color='k', lw=0.5, label='Original')\n",
    "plt.scatter(z_trun[::int(1e4)], test_output[::int(1e4)], marker='x', s=4)"
   ]
  }
 ],
 "metadata": {
  "kernelspec": {
   "display_name": "pyspedas",
   "language": "python",
   "name": "pyspedas"
  },
  "language_info": {
   "codemirror_mode": {
    "name": "ipython",
    "version": 3
   },
   "file_extension": ".py",
   "mimetype": "text/x-python",
   "name": "python",
   "nbconvert_exporter": "python",
   "pygments_lexer": "ipython3",
   "version": "3.12.7"
  }
 },
 "nbformat": 4,
 "nbformat_minor": 2
}
